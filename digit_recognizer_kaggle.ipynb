{
  "nbformat": 4,
  "nbformat_minor": 0,
  "metadata": {
    "colab": {
      "name": "digit_recognizer_kaggle.ipynb",
      "provenance": [],
      "collapsed_sections": [],
      "authorship_tag": "ABX9TyO/k/Nt+VA4GdCcUbYXeRUV",
      "include_colab_link": true
    },
    "kernelspec": {
      "name": "python3",
      "display_name": "Python 3"
    },
    "accelerator": "GPU"
  },
  "cells": [
    {
      "cell_type": "markdown",
      "metadata": {
        "id": "view-in-github",
        "colab_type": "text"
      },
      "source": [
        "<a href=\"https://colab.research.google.com/github/NidentalEgor/DigitRecognizerKaggle/blob/master/digit_recognizer_kaggle.ipynb\" target=\"_parent\"><img src=\"https://colab.research.google.com/assets/colab-badge.svg\" alt=\"Open In Colab\"/></a>"
      ]
    },
    {
      "cell_type": "code",
      "metadata": {
        "id": "sl4F5GfJr6ET",
        "colab_type": "code",
        "outputId": "4bbc5cae-d048-4719-cb6c-284c3dc06e78",
        "colab": {
          "base_uri": "https://localhost:8080/",
          "height": 34
        }
      },
      "source": [
        "from google.colab import drive\n",
        "drive.mount('/content/gdrive')"
      ],
      "execution_count": 10,
      "outputs": [
        {
          "output_type": "stream",
          "text": [
            "Drive already mounted at /content/gdrive; to attempt to forcibly remount, call drive.mount(\"/content/gdrive\", force_remount=True).\n"
          ],
          "name": "stdout"
        }
      ]
    },
    {
      "cell_type": "code",
      "metadata": {
        "id": "c3lJr_es5Mdl",
        "colab_type": "code",
        "colab": {}
      },
      "source": [
        "from keras.datasets import mnist\n",
        "import tensorflow as tf\n",
        "import numpy as np\n",
        "import pandas as pd\n",
        "import matplotlib.pyplot as plt\n",
        "import math"
      ],
      "execution_count": 0,
      "outputs": []
    },
    {
      "cell_type": "code",
      "metadata": {
        "id": "KkbiGScAchHd",
        "colab_type": "code",
        "colab": {}
      },
      "source": [
        "def read_dataset():\n",
        "  #(X_train, y_train), (X_test, y_test) = mnist.load_data()\n",
        "  #print(\"downloaded\")\n",
        "  #return X_train, y_train, X_test\n",
        "\n",
        "  train_data_file = F\"/content/gdrive/My Drive/Colab Notebooks/DigitRecognizerKaggle/Input/train.csv\"\n",
        "  test_data_file = F\"/content/gdrive/My Drive/Colab Notebooks/DigitRecognizerKaggle/Input/test.csv\"\n",
        "  print(\"loaded\")\n",
        "\n",
        "  train_data = pd.read_csv(train_data_file)\n",
        "  test_data = pd.read_csv(test_data_file)\n",
        "\n",
        "  Y_train = train_data.iloc[:,0].to_numpy()\n",
        "  Y_train_result = tf.keras.utils.to_categorical(Y_train.reshape(-1,1))\n",
        "  print(Y_train_result.shape)\n",
        "  X_train = train_data.iloc[:,1:].to_numpy() / 255.0 # normalization\n",
        "  X_train_result = X_train.reshape(-1,28,28,1)\n",
        "  print(X_train_result.shape)\n",
        "\n",
        "  X_test = test_data.to_numpy() / 255.0 # normalization\n",
        "  X_test_result = X_test.reshape(-1,28,28,1)\n",
        "  print(X_test_result.shape)\n",
        "  \n",
        "  return X_train_result, Y_train_result, X_test_result"
      ],
      "execution_count": 0,
      "outputs": []
    },
    {
      "cell_type": "code",
      "metadata": {
        "id": "mXWtdUSv6C4-",
        "colab_type": "code",
        "colab": {}
      },
      "source": [
        "def create_model(show_summary = False):\n",
        "  model = tf.keras.Sequential([\n",
        "    tf.keras.layers.Conv2D(64, 3, activation='relu', input_shape=(28,28,1),padding=\"same\"),\n",
        "    tf.keras.layers.MaxPool2D(strides=2),\n",
        "    \n",
        "    \n",
        "    tf.keras.layers.Conv2D(128, 3, activation='relu',padding=\"same\"),\n",
        "    tf.keras.layers.MaxPool2D(strides=2),\n",
        "    \n",
        "    tf.keras.layers.Dropout(0.2),\n",
        "        \n",
        "    tf.keras.layers.Conv2D(256, 3, activation='relu',padding=\"same\"),\n",
        "    tf.keras.layers.MaxPool2D(strides=2),\n",
        "    \n",
        "    tf.keras.layers.Conv2D(256, 3, activation='relu',padding=\"same\"),\n",
        "    tf.keras.layers.MaxPool2D(strides=2),\n",
        "        \n",
        "    tf.keras.layers.Flatten(),\n",
        "    tf.keras.layers.Dense(100,kernel_regularizer=tf.keras.regularizers.l2(0.01), activation='relu'),\n",
        "    \n",
        "    tf.keras.layers.Dense(50,kernel_regularizer=tf.keras.regularizers.l2(0.01), activation='relu'),\n",
        "        \n",
        "    tf.keras.layers.Dense(10, kernel_regularizer=tf.keras.regularizers.l2(0.01) ,activation='softmax')\n",
        "])\n",
        "\n",
        "  if(show_summary == True):\n",
        "    model.summary()\n",
        "\n",
        "  return model"
      ],
      "execution_count": 0,
      "outputs": []
    },
    {
      "cell_type": "code",
      "metadata": {
        "id": "ImwvxYnAzUe6",
        "colab_type": "code",
        "colab": {}
      },
      "source": [
        "def show_plot(result):\n",
        "  plt.plot(result['accuracy'], label='train')\n",
        "  plt.plot(result['val_accuracy'], label='valid')\n",
        "  plt.legend(loc='upper left')\n",
        "  plt.title('Model accuracy')\n",
        "  plt.ylabel('Accuracy')\n",
        "  plt.xlabel('Epoch')\n",
        "  plt.show()\n",
        "  plt.plot(result['loss'], label='train')\n",
        "  plt.plot(result['val_loss'], label='test')\n",
        "  plt.legend(loc='upper right')\n",
        "  plt.title('Model loss')\n",
        "  plt.ylabel('Loss')\n",
        "  plt.xlabel('Epoch')\n",
        "  plt.show()"
      ],
      "execution_count": 0,
      "outputs": []
    },
    {
      "cell_type": "code",
      "metadata": {
        "id": "L_sq5k926ti2",
        "colab_type": "code",
        "colab": {}
      },
      "source": [
        "def train_model(model, X_train, Y_train, batch_size, epoch_number):\n",
        "#  model.compile(optimizer=tf.keras.optimizers.Nadam(learning_rate=0.001),\n",
        "#                loss=tf.keras.losses.CategoricalCrossentropy(),\n",
        "#                metrics=['accuracy'])\n",
        "#  result = model.fit(x=X_train,y=Y_train,batch_size=batch_size,epochs=epoch_number,\n",
        "#                     verbose=1,shuffle=False,initial_epoch=0,validation_split=0.2)\n",
        "  \n",
        "  model.compile(optimizer='adam', loss='categorical_crossentropy',metrics=['accuracy'])\n",
        "  datagen = tf.keras.preprocessing.image.ImageDataGenerator(rotation_range=40, zoom_range=0.2, validation_split=0.2) # Create Data Augmentation (DA) Iterator\n",
        "  datagen.fit(X_train) # Our DA Iterator is trained with the image data, to calculate internal statistics\n",
        "  ln_fc = lambda x: 1e-3 * 0.985 ** x # Let's add callbacks, which adjust learning rate\n",
        "  lrng_rt = tf.keras.callbacks.LearningRateScheduler(ln_fc)\n",
        "  # Fit our CNN-model using the DA Iterator using Flow-method, which feeds batches of augmented data:\n",
        "#  result = model.fit_generator(datagen.flow(X_train, Y_train, batch_size=batch_size),\n",
        "#                              steps_per_epoch=len(X_train)/batch_size,verbose = 1,epochs=epoch_number,callbacks=[lrng_rt])\n",
        "\n",
        "  history = dict()\n",
        "  history[\"loss\"] = list()\n",
        "  history[\"accuracy\"] = list()\n",
        "  history[\"val_loss\"] = list()\n",
        "  history[\"val_accuracy\"] = list()\n",
        "  for e in range(epoch_number):\n",
        "      print('Epoch', e)\n",
        "      batches = 0\n",
        "      for x_batch, y_batch in datagen.flow(X_train, Y_train, batch_size=batch_size):\n",
        "          print('Batch', batches+1, '/', math.ceil(len(X_train) / batch_size))\n",
        "          hist = model.fit(x=X_train,y=Y_train,batch_size=batch_size,verbose=1,validation_split=0.2).history\n",
        "          history[\"loss\"].append(hist[\"loss\"][0])\n",
        "          history[\"accuracy\"].append(hist[\"accuracy\"][0])\n",
        "          history[\"val_loss\"].append(hist[\"val_loss\"][0])\n",
        "          history[\"val_accuracy\"].append(hist[\"val_accuracy\"][0])\n",
        "          batches += 1\n",
        "          if batches >= len(X_train) / batch_size:\n",
        "              print()\n",
        "              break\n",
        "\n",
        "  show_plot(history)\n",
        "\n",
        "  return model"
      ],
      "execution_count": 0,
      "outputs": []
    },
    {
      "cell_type": "code",
      "metadata": {
        "id": "xCGjXvZR-M-y",
        "colab_type": "code",
        "colab": {}
      },
      "source": [
        "def predict_and_save_result(model, X_test):\n",
        "  test_labels = np.argmax(model.predict(X_test), axis=-1)\n",
        "  arr = [x for x in range(1,len(test_labels)+1)]\n",
        "  label = pd.DataFrame(arr,columns = [\"ImageId\"])\n",
        "  label[\"Label\"] = pd.DataFrame(test_labels)\n",
        "  result_file_path = F\"/content/gdrive/My Drive/Colab Notebooks/DigitRecognizerKaggle/Result/result_4.csv\"\n",
        "  label.to_csv(result_file_path,header=True,index = False)"
      ],
      "execution_count": 0,
      "outputs": []
    },
    {
      "cell_type": "code",
      "metadata": {
        "id": "61h0OAHO42f_",
        "colab_type": "code",
        "outputId": "44f69e25-c028-4c68-c6da-56a1fb5682ff",
        "colab": {
          "base_uri": "https://localhost:8080/",
          "height": 1000
        }
      },
      "source": [
        "X_train, Y_train, X_test = read_dataset()\n",
        "model = create_model()\n",
        "model = train_model(model, X_train, Y_train, 1024, 2)\n",
        "predict_and_save_result(model, X_test)"
      ],
      "execution_count": 17,
      "outputs": [
        {
          "output_type": "stream",
          "text": [
            "loaded\n",
            "(42000, 10)\n",
            "(42000, 28, 28, 1)\n",
            "(28000, 28, 28, 1)\n",
            "Epoch 0\n",
            "Batch 1 / 42\n",
            "33/33 [==============================] - 3s 104ms/step - loss: 3.0601 - accuracy: 0.5761 - val_loss: 1.8184 - val_accuracy: 0.8918\n",
            "Batch 2 / 42\n",
            "33/33 [==============================] - 3s 100ms/step - loss: 1.4942 - accuracy: 0.9263 - val_loss: 1.2194 - val_accuracy: 0.9595\n",
            "Batch 3 / 42\n",
            "33/33 [==============================] - 3s 99ms/step - loss: 1.0980 - accuracy: 0.9591 - val_loss: 0.9538 - val_accuracy: 0.9731\n",
            "Batch 4 / 42\n",
            "33/33 [==============================] - 3s 99ms/step - loss: 0.8831 - accuracy: 0.9701 - val_loss: 0.7992 - val_accuracy: 0.9769\n",
            "Batch 5 / 42\n",
            "33/33 [==============================] - 3s 100ms/step - loss: 0.7453 - accuracy: 0.9774 - val_loss: 0.6884 - val_accuracy: 0.9795\n",
            "Batch 6 / 42\n",
            "33/33 [==============================] - 3s 100ms/step - loss: 0.6504 - accuracy: 0.9806 - val_loss: 0.6100 - val_accuracy: 0.9814\n",
            "Batch 7 / 42\n",
            "33/33 [==============================] - 3s 99ms/step - loss: 0.5785 - accuracy: 0.9829 - val_loss: 0.5425 - val_accuracy: 0.9842\n",
            "Batch 8 / 42\n",
            "33/33 [==============================] - 3s 100ms/step - loss: 0.5197 - accuracy: 0.9842 - val_loss: 0.5037 - val_accuracy: 0.9801\n",
            "Batch 9 / 42\n",
            "33/33 [==============================] - 3s 100ms/step - loss: 0.4731 - accuracy: 0.9846 - val_loss: 0.4502 - val_accuracy: 0.9843\n",
            "Batch 10 / 42\n",
            "33/33 [==============================] - 3s 99ms/step - loss: 0.4259 - accuracy: 0.9875 - val_loss: 0.4110 - val_accuracy: 0.9857\n",
            "Batch 11 / 42\n",
            "33/33 [==============================] - 3s 99ms/step - loss: 0.3954 - accuracy: 0.9860 - val_loss: 0.3835 - val_accuracy: 0.9845\n",
            "Batch 12 / 42\n",
            "33/33 [==============================] - 3s 99ms/step - loss: 0.3586 - accuracy: 0.9886 - val_loss: 0.3456 - val_accuracy: 0.9882\n",
            "Batch 13 / 42\n",
            "33/33 [==============================] - 3s 99ms/step - loss: 0.3297 - accuracy: 0.9900 - val_loss: 0.3241 - val_accuracy: 0.9877\n",
            "Batch 14 / 42\n",
            "33/33 [==============================] - 3s 99ms/step - loss: 0.3058 - accuracy: 0.9897 - val_loss: 0.2981 - val_accuracy: 0.9879\n",
            "Batch 15 / 42\n",
            "33/33 [==============================] - 3s 99ms/step - loss: 0.2800 - accuracy: 0.9913 - val_loss: 0.2904 - val_accuracy: 0.9842\n",
            "Batch 16 / 42\n",
            "33/33 [==============================] - 3s 100ms/step - loss: 0.2651 - accuracy: 0.9897 - val_loss: 0.2749 - val_accuracy: 0.9843\n",
            "Batch 17 / 42\n",
            "33/33 [==============================] - 3s 100ms/step - loss: 0.2452 - accuracy: 0.9912 - val_loss: 0.2550 - val_accuracy: 0.9844\n",
            "Batch 18 / 42\n",
            "33/33 [==============================] - 3s 100ms/step - loss: 0.2266 - accuracy: 0.9920 - val_loss: 0.2282 - val_accuracy: 0.9888\n",
            "Batch 19 / 42\n",
            "33/33 [==============================] - 3s 99ms/step - loss: 0.2093 - accuracy: 0.9931 - val_loss: 0.2124 - val_accuracy: 0.9889\n",
            "Batch 20 / 42\n",
            "33/33 [==============================] - 3s 99ms/step - loss: 0.1935 - accuracy: 0.9941 - val_loss: 0.2027 - val_accuracy: 0.9886\n",
            "Batch 21 / 42\n",
            "33/33 [==============================] - 3s 100ms/step - loss: 0.1819 - accuracy: 0.9938 - val_loss: 0.1968 - val_accuracy: 0.9865\n",
            "Batch 22 / 42\n",
            "33/33 [==============================] - 3s 100ms/step - loss: 0.1765 - accuracy: 0.9917 - val_loss: 0.1799 - val_accuracy: 0.9883\n",
            "Batch 23 / 42\n",
            "33/33 [==============================] - 3s 100ms/step - loss: 0.1626 - accuracy: 0.9933 - val_loss: 0.1686 - val_accuracy: 0.9905\n",
            "Batch 24 / 42\n",
            "33/33 [==============================] - 3s 100ms/step - loss: 0.1514 - accuracy: 0.9940 - val_loss: 0.1576 - val_accuracy: 0.9910\n",
            "Batch 25 / 42\n",
            "33/33 [==============================] - 3s 99ms/step - loss: 0.1424 - accuracy: 0.9944 - val_loss: 0.1548 - val_accuracy: 0.9883\n",
            "Batch 26 / 42\n",
            "33/33 [==============================] - 3s 99ms/step - loss: 0.1347 - accuracy: 0.9950 - val_loss: 0.1437 - val_accuracy: 0.9906\n",
            "Batch 27 / 42\n",
            "33/33 [==============================] - 3s 100ms/step - loss: 0.1286 - accuracy: 0.9945 - val_loss: 0.1457 - val_accuracy: 0.9880\n",
            "Batch 28 / 42\n",
            "33/33 [==============================] - 3s 99ms/step - loss: 0.1215 - accuracy: 0.9946 - val_loss: 0.1352 - val_accuracy: 0.9894\n",
            "Batch 29 / 42\n",
            "33/33 [==============================] - 3s 99ms/step - loss: 0.1143 - accuracy: 0.9951 - val_loss: 0.1256 - val_accuracy: 0.9904\n",
            "Batch 30 / 42\n",
            "33/33 [==============================] - 3s 100ms/step - loss: 0.1063 - accuracy: 0.9956 - val_loss: 0.1194 - val_accuracy: 0.9904\n",
            "Batch 31 / 42\n",
            "33/33 [==============================] - 3s 99ms/step - loss: 0.1025 - accuracy: 0.9954 - val_loss: 0.1180 - val_accuracy: 0.9892\n",
            "Batch 32 / 42\n",
            "33/33 [==============================] - 3s 100ms/step - loss: 0.0976 - accuracy: 0.9952 - val_loss: 0.1138 - val_accuracy: 0.9904\n",
            "Batch 33 / 42\n",
            "33/33 [==============================] - 3s 100ms/step - loss: 0.0944 - accuracy: 0.9952 - val_loss: 0.1144 - val_accuracy: 0.9881\n",
            "Batch 34 / 42\n",
            "33/33 [==============================] - 3s 99ms/step - loss: 0.0873 - accuracy: 0.9963 - val_loss: 0.1016 - val_accuracy: 0.9908\n",
            "Batch 35 / 42\n",
            "33/33 [==============================] - 3s 99ms/step - loss: 0.0848 - accuracy: 0.9958 - val_loss: 0.1017 - val_accuracy: 0.9893\n",
            "Batch 36 / 42\n",
            "33/33 [==============================] - 3s 100ms/step - loss: 0.0807 - accuracy: 0.9961 - val_loss: 0.0943 - val_accuracy: 0.9904\n",
            "Batch 37 / 42\n",
            "33/33 [==============================] - 3s 99ms/step - loss: 0.0773 - accuracy: 0.9960 - val_loss: 0.0922 - val_accuracy: 0.9898\n",
            "Batch 38 / 42\n",
            "33/33 [==============================] - 3s 99ms/step - loss: 0.0729 - accuracy: 0.9967 - val_loss: 0.0917 - val_accuracy: 0.9904\n",
            "Batch 39 / 42\n",
            "33/33 [==============================] - 3s 99ms/step - loss: 0.0708 - accuracy: 0.9963 - val_loss: 0.0837 - val_accuracy: 0.9914\n",
            "Batch 40 / 42\n",
            "33/33 [==============================] - 3s 99ms/step - loss: 0.0679 - accuracy: 0.9963 - val_loss: 0.0824 - val_accuracy: 0.9912\n",
            "Batch 41 / 42\n",
            "33/33 [==============================] - 3s 100ms/step - loss: 0.0645 - accuracy: 0.9966 - val_loss: 0.0834 - val_accuracy: 0.9901\n",
            "Batch 42 / 42\n",
            "33/33 [==============================] - 3s 100ms/step - loss: 0.0624 - accuracy: 0.9966 - val_loss: 0.0786 - val_accuracy: 0.9908\n",
            "\n",
            "Epoch 1\n",
            "Batch 1 / 42\n",
            "33/33 [==============================] - 3s 99ms/step - loss: 0.0591 - accuracy: 0.9971 - val_loss: 0.0784 - val_accuracy: 0.9907\n",
            "Batch 2 / 42\n",
            "33/33 [==============================] - 3s 99ms/step - loss: 0.0574 - accuracy: 0.9971 - val_loss: 0.0772 - val_accuracy: 0.9900\n",
            "Batch 3 / 42\n",
            "33/33 [==============================] - 3s 100ms/step - loss: 0.0569 - accuracy: 0.9966 - val_loss: 0.0733 - val_accuracy: 0.9912\n",
            "Batch 4 / 42\n",
            "33/33 [==============================] - 3s 99ms/step - loss: 0.0562 - accuracy: 0.9966 - val_loss: 0.0846 - val_accuracy: 0.9869\n",
            "Batch 5 / 42\n",
            "33/33 [==============================] - 3s 99ms/step - loss: 0.0544 - accuracy: 0.9967 - val_loss: 0.0723 - val_accuracy: 0.9907\n",
            "Batch 6 / 42\n",
            "33/33 [==============================] - 3s 100ms/step - loss: 0.0508 - accuracy: 0.9969 - val_loss: 0.0654 - val_accuracy: 0.9924\n",
            "Batch 7 / 42\n",
            "33/33 [==============================] - 3s 99ms/step - loss: 0.0501 - accuracy: 0.9968 - val_loss: 0.0867 - val_accuracy: 0.9839\n",
            "Batch 8 / 42\n",
            "33/33 [==============================] - 3s 100ms/step - loss: 0.0480 - accuracy: 0.9974 - val_loss: 0.0707 - val_accuracy: 0.9900\n",
            "Batch 9 / 42\n",
            "33/33 [==============================] - 3s 100ms/step - loss: 0.0472 - accuracy: 0.9970 - val_loss: 0.0656 - val_accuracy: 0.9908\n",
            "Batch 10 / 42\n",
            "33/33 [==============================] - 3s 100ms/step - loss: 0.0451 - accuracy: 0.9971 - val_loss: 0.0660 - val_accuracy: 0.9907\n",
            "Batch 11 / 42\n",
            "33/33 [==============================] - 3s 99ms/step - loss: 0.0425 - accuracy: 0.9980 - val_loss: 0.0621 - val_accuracy: 0.9925\n",
            "Batch 12 / 42\n",
            "33/33 [==============================] - 3s 100ms/step - loss: 0.0407 - accuracy: 0.9980 - val_loss: 0.0616 - val_accuracy: 0.9914\n",
            "Batch 13 / 42\n",
            "33/33 [==============================] - 3s 100ms/step - loss: 0.0396 - accuracy: 0.9980 - val_loss: 0.0632 - val_accuracy: 0.9910\n",
            "Batch 14 / 42\n",
            "33/33 [==============================] - 3s 99ms/step - loss: 0.0378 - accuracy: 0.9986 - val_loss: 0.0679 - val_accuracy: 0.9881\n",
            "Batch 15 / 42\n",
            "33/33 [==============================] - 3s 99ms/step - loss: 0.0375 - accuracy: 0.9982 - val_loss: 0.0583 - val_accuracy: 0.9919\n",
            "Batch 16 / 42\n",
            "33/33 [==============================] - 3s 99ms/step - loss: 0.0381 - accuracy: 0.9976 - val_loss: 0.0625 - val_accuracy: 0.9895\n",
            "Batch 17 / 42\n",
            "33/33 [==============================] - 3s 100ms/step - loss: 0.0393 - accuracy: 0.9967 - val_loss: 0.0588 - val_accuracy: 0.9907\n",
            "Batch 18 / 42\n",
            "33/33 [==============================] - 3s 100ms/step - loss: 0.0378 - accuracy: 0.9975 - val_loss: 0.0614 - val_accuracy: 0.9906\n",
            "Batch 19 / 42\n",
            "33/33 [==============================] - 3s 99ms/step - loss: 0.0412 - accuracy: 0.9963 - val_loss: 0.0688 - val_accuracy: 0.9883\n",
            "Batch 20 / 42\n",
            "33/33 [==============================] - 3s 99ms/step - loss: 0.0407 - accuracy: 0.9959 - val_loss: 0.0610 - val_accuracy: 0.9904\n",
            "Batch 21 / 42\n",
            "33/33 [==============================] - 3s 100ms/step - loss: 0.0354 - accuracy: 0.9977 - val_loss: 0.0571 - val_accuracy: 0.9921\n",
            "Batch 22 / 42\n",
            "33/33 [==============================] - 3s 100ms/step - loss: 0.0323 - accuracy: 0.9986 - val_loss: 0.0516 - val_accuracy: 0.9915\n",
            "Batch 23 / 42\n",
            "33/33 [==============================] - 3s 99ms/step - loss: 0.0309 - accuracy: 0.9985 - val_loss: 0.0553 - val_accuracy: 0.9908\n",
            "Batch 24 / 42\n",
            "33/33 [==============================] - 3s 99ms/step - loss: 0.0310 - accuracy: 0.9982 - val_loss: 0.0498 - val_accuracy: 0.9929\n",
            "Batch 25 / 42\n",
            "33/33 [==============================] - 3s 99ms/step - loss: 0.0313 - accuracy: 0.9978 - val_loss: 0.0545 - val_accuracy: 0.9910\n",
            "Batch 26 / 42\n",
            "33/33 [==============================] - 3s 100ms/step - loss: 0.0297 - accuracy: 0.9984 - val_loss: 0.0504 - val_accuracy: 0.9918\n",
            "Batch 27 / 42\n",
            "33/33 [==============================] - 3s 99ms/step - loss: 0.0283 - accuracy: 0.9990 - val_loss: 0.0591 - val_accuracy: 0.9890\n",
            "Batch 28 / 42\n",
            "33/33 [==============================] - 3s 98ms/step - loss: 0.0282 - accuracy: 0.9985 - val_loss: 0.0481 - val_accuracy: 0.9919\n",
            "Batch 29 / 42\n",
            "33/33 [==============================] - 3s 99ms/step - loss: 0.0263 - accuracy: 0.9990 - val_loss: 0.0495 - val_accuracy: 0.9921\n",
            "Batch 30 / 42\n",
            "33/33 [==============================] - 3s 99ms/step - loss: 0.0268 - accuracy: 0.9987 - val_loss: 0.0480 - val_accuracy: 0.9920\n",
            "Batch 31 / 42\n",
            "33/33 [==============================] - 3s 100ms/step - loss: 0.0260 - accuracy: 0.9987 - val_loss: 0.0501 - val_accuracy: 0.9914\n",
            "Batch 32 / 42\n",
            "33/33 [==============================] - 3s 99ms/step - loss: 0.0252 - accuracy: 0.9990 - val_loss: 0.0461 - val_accuracy: 0.9923\n",
            "Batch 33 / 42\n",
            "33/33 [==============================] - 3s 99ms/step - loss: 0.0245 - accuracy: 0.9990 - val_loss: 0.0489 - val_accuracy: 0.9911\n",
            "Batch 34 / 42\n",
            "33/33 [==============================] - 3s 100ms/step - loss: 0.0255 - accuracy: 0.9985 - val_loss: 0.0545 - val_accuracy: 0.9895\n",
            "Batch 35 / 42\n",
            "33/33 [==============================] - 3s 100ms/step - loss: 0.0276 - accuracy: 0.9977 - val_loss: 0.0501 - val_accuracy: 0.9907\n",
            "Batch 36 / 42\n",
            "33/33 [==============================] - 3s 100ms/step - loss: 0.0296 - accuracy: 0.9967 - val_loss: 0.0584 - val_accuracy: 0.9888\n",
            "Batch 37 / 42\n",
            "33/33 [==============================] - 3s 100ms/step - loss: 0.0349 - accuracy: 0.9950 - val_loss: 0.0486 - val_accuracy: 0.9918\n",
            "Batch 38 / 42\n",
            "33/33 [==============================] - 3s 100ms/step - loss: 0.0278 - accuracy: 0.9977 - val_loss: 0.0476 - val_accuracy: 0.9918\n",
            "Batch 39 / 42\n",
            "33/33 [==============================] - 3s 99ms/step - loss: 0.0233 - accuracy: 0.9993 - val_loss: 0.0476 - val_accuracy: 0.9914\n",
            "Batch 40 / 42\n",
            "33/33 [==============================] - 3s 99ms/step - loss: 0.0226 - accuracy: 0.9993 - val_loss: 0.0460 - val_accuracy: 0.9921\n",
            "Batch 41 / 42\n",
            "33/33 [==============================] - 3s 99ms/step - loss: 0.0219 - accuracy: 0.9992 - val_loss: 0.0486 - val_accuracy: 0.9900\n",
            "Batch 42 / 42\n",
            "33/33 [==============================] - 3s 100ms/step - loss: 0.0221 - accuracy: 0.9990 - val_loss: 0.0426 - val_accuracy: 0.9925\n",
            "\n"
          ],
          "name": "stdout"
        },
        {
          "output_type": "display_data",
          "data": {
            "image/png": "[encoded data removed]",
            "text/plain": [
              "<Figure size 432x288 with 1 Axes>"
            ]
          },
          "metadata": {
            "tags": [],
            "needs_background": "light"
          }
        },
        {
          "output_type": "display_data",
          "data": {
            "image/png": "[encoded data removed]",
            "text/plain": [
              "<Figure size 432x288 with 1 Axes>"
            ]
          },
          "metadata": {
            "tags": [],
            "needs_background": "light"
          }
        }
      ]
    }
  ]
}