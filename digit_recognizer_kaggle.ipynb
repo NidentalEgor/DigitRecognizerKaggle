{
  "nbformat": 4,
  "nbformat_minor": 0,
  "metadata": {
    "colab": {
      "name": "digit_recognizer_kaggle.ipynb",
      "provenance": [],
      "collapsed_sections": [],
      "authorship_tag": "ABX9TyNZMXobrTDx8w7+S429irAh",
      "include_colab_link": true
    },
    "kernelspec": {
      "name": "python3",
      "display_name": "Python 3"
    },
    "accelerator": "GPU"
  },
  "cells": [
    {
      "cell_type": "markdown",
      "metadata": {
        "id": "view-in-github",
        "colab_type": "text"
      },
      "source": [
        "<a href=\"https://colab.research.google.com/github/NidentalEgor/DigitRecognizerKaggle/blob/master/digit_recognizer_kaggle.ipynb\" target=\"_parent\"><img src=\"https://colab.research.google.com/assets/colab-badge.svg\" alt=\"Open In Colab\"/></a>"
      ]
    },
    {
      "cell_type": "code",
      "metadata": {
        "id": "sl4F5GfJr6ET",
        "colab_type": "code",
        "outputId": "74064cb2-a82b-40ba-f3dc-551f6be80cde",
        "colab": {
          "base_uri": "https://localhost:8080/",
          "height": 122
        }
      },
      "source": [
        "from google.colab import drive\n",
        "drive.mount('/content/gdrive')"
      ],
      "execution_count": 2,
      "outputs": [
        {
          "output_type": "stream",
          "text": [
            "Go to this URL in a browser: https://accounts.google.com/o/oauth2/auth?client_id=947318989803-6bn6qk8qdgf4n4g3pfee6491hc0brc4i.apps.googleusercontent.com&redirect_uri=urn%3aietf%3awg%3aoauth%3a2.0%3aoob&response_type=code&scope=email%20https%3a%2f%2fwww.googleapis.com%2fauth%2fdocs.test%20https%3a%2f%2fwww.googleapis.com%2fauth%2fdrive%20https%3a%2f%2fwww.googleapis.com%2fauth%2fdrive.photos.readonly%20https%3a%2f%2fwww.googleapis.com%2fauth%2fpeopleapi.readonly\n",
            "\n",
            "Enter your authorization code:\n",
            "··········\n",
            "Mounted at /content/gdrive\n"
          ],
          "name": "stdout"
        }
      ]
    },
    {
      "cell_type": "code",
      "metadata": {
        "id": "c3lJr_es5Mdl",
        "colab_type": "code",
        "outputId": "a186552d-1a16-4df5-918c-64128525184d",
        "colab": {
          "base_uri": "https://localhost:8080/",
          "height": 34
        }
      },
      "source": [
        "from keras.datasets import mnist\n",
        "import tensorflow as tf\n",
        "import numpy as np\n",
        "import pandas as pd\n",
        "import matplotlib.pyplot as plt\n",
        "import math\n",
        "from tensorflow.python.client import device_lib"
      ],
      "execution_count": 3,
      "outputs": [
        {
          "output_type": "stream",
          "text": [
            "Using TensorFlow backend.\n"
          ],
          "name": "stderr"
        }
      ]
    },
    {
      "cell_type": "code",
      "metadata": {
        "id": "KkbiGScAchHd",
        "colab_type": "code",
        "colab": {}
      },
      "source": [
        "def read_dataset():\n",
        "  #(X_train, y_train), (X_test, y_test) = mnist.load_data()\n",
        "  #print(\"downloaded\")\n",
        "  #return X_train, y_train, X_test\n",
        "\n",
        "  train_data_file = F\"/content/gdrive/My Drive/Colab Notebooks/DigitRecognizerKaggle/Input/train.csv\"\n",
        "  test_data_file = F\"/content/gdrive/My Drive/Colab Notebooks/DigitRecognizerKaggle/Input/test.csv\"\n",
        "  print(\"loaded\")\n",
        "\n",
        "  train_data = pd.read_csv(train_data_file)\n",
        "  test_data = pd.read_csv(test_data_file)\n",
        "\n",
        "  Y_train = train_data.iloc[:,0].to_numpy()\n",
        "  Y_train_result = tf.keras.utils.to_categorical(Y_train.reshape(-1,1))\n",
        "  print(Y_train_result.shape)\n",
        "  X_train = train_data.iloc[:,1:].to_numpy() / 255.0 # normalization\n",
        "  X_train_result = X_train.reshape(-1,28,28,1)\n",
        "  print(X_train_result.shape)\n",
        "\n",
        "  X_test = test_data.to_numpy() / 255.0 # normalization\n",
        "  X_test_result = X_test.reshape(-1,28,28,1)\n",
        "  print(X_test_result.shape)\n",
        "  \n",
        "  return X_train_result, Y_train_result, X_test_result"
      ],
      "execution_count": 0,
      "outputs": []
    },
    {
      "cell_type": "code",
      "metadata": {
        "id": "mXWtdUSv6C4-",
        "colab_type": "code",
        "colab": {}
      },
      "source": [
        "def create_model(show_summary = False):\n",
        "  if False:\n",
        "    model = tf.keras.Sequential([\n",
        "      tf.keras.layers.Conv2D(64, 3, activation='relu', input_shape=(28,28,1),padding=\"same\"),\n",
        "      tf.keras.layers.MaxPool2D(strides=2),\n",
        "      \n",
        "      \n",
        "      tf.keras.layers.Conv2D(128, 3, activation='relu',padding=\"same\"),\n",
        "      tf.keras.layers.MaxPool2D(strides=2),\n",
        "      \n",
        "      tf.keras.layers.Dropout(0.2),\n",
        "          \n",
        "      tf.keras.layers.Conv2D(256, 3, activation='relu',padding=\"same\"),\n",
        "      tf.keras.layers.MaxPool2D(strides=2),\n",
        "      \n",
        "      tf.keras.layers.Conv2D(256, 3, activation='relu',padding=\"same\"),\n",
        "      tf.keras.layers.MaxPool2D(strides=2),\n",
        "          \n",
        "      tf.keras.layers.Flatten(),\n",
        "      tf.keras.layers.Dense(100,kernel_regularizer=tf.keras.regularizers.l2(0.01), activation='relu'),\n",
        "      \n",
        "      tf.keras.layers.Dense(50,kernel_regularizer=tf.keras.regularizers.l2(0.01), activation='relu'),\n",
        "          \n",
        "      tf.keras.layers.Dense(10, kernel_regularizer=tf.keras.regularizers.l2(0.01) ,activation='softmax')\n",
        "  ])\n",
        "  else:\n",
        "    model = tf.keras.Sequential([\n",
        "      tf.keras.layers.Conv2D(64, 3, activation='relu', input_shape=(28,28,1),padding=\"same\"),\n",
        "      tf.keras.layers.MaxPool2D(strides=2),\n",
        "      \n",
        "      \n",
        "      tf.keras.layers.Conv2D(128, 3, activation='relu',padding=\"same\"),\n",
        "      tf.keras.layers.MaxPool2D(strides=2),\n",
        "      \n",
        "      tf.keras.layers.Dropout(0.2),\n",
        "          \n",
        "      tf.keras.layers.Conv2D(256, 3, activation='relu',padding=\"same\"),\n",
        "      tf.keras.layers.MaxPool2D(strides=2),\n",
        "      \n",
        "      tf.keras.layers.Conv2D(256, 3, activation='relu',padding=\"same\"),\n",
        "      tf.keras.layers.MaxPool2D(strides=2),\n",
        "          \n",
        "      tf.keras.layers.Flatten(),\n",
        "      tf.keras.layers.Dense(100,kernel_regularizer=tf.keras.regularizers.l2(0.1), activation='relu'),\n",
        "      \n",
        "      tf.keras.layers.BatchNormalization(),\n",
        "\n",
        "      tf.keras.layers.Dense(50,kernel_regularizer=tf.keras.regularizers.l2(0.1), activation='relu'),\n",
        "\n",
        "      tf.keras.layers.BatchNormalization(),\n",
        "\n",
        "      tf.keras.layers.Dense(25,kernel_regularizer=tf.keras.regularizers.l2(0.1), activation='relu'),\n",
        "          \n",
        "      tf.keras.layers.BatchNormalization(),\n",
        "\n",
        "      tf.keras.layers.Dense(10, kernel_regularizer=tf.keras.regularizers.l2(0.1) ,activation='softmax')\n",
        "  ])\n",
        "\n",
        "  if(show_summary == True):\n",
        "    model.summary()\n",
        "\n",
        "  return model"
      ],
      "execution_count": 0,
      "outputs": []
    },
    {
      "cell_type": "code",
      "metadata": {
        "id": "ImwvxYnAzUe6",
        "colab_type": "code",
        "colab": {}
      },
      "source": [
        "def show_plot(result):\n",
        "  plt.plot(result['accuracy'], label='train')\n",
        "  plt.plot(result['val_accuracy'], label='valid')\n",
        "  plt.legend(loc='upper left')\n",
        "  plt.title('Model accuracy')\n",
        "  plt.ylabel('Accuracy')\n",
        "  plt.xlabel('Epoch')\n",
        "  plt.show()\n",
        "  plt.plot(result['loss'], label='train')\n",
        "  plt.plot(result['val_loss'], label='test')\n",
        "  plt.legend(loc='upper right')\n",
        "  plt.title('Model loss')\n",
        "  plt.ylabel('Loss')\n",
        "  plt.xlabel('Epoch')\n",
        "  plt.show()"
      ],
      "execution_count": 0,
      "outputs": []
    },
    {
      "cell_type": "code",
      "metadata": {
        "id": "L_sq5k926ti2",
        "colab_type": "code",
        "colab": {}
      },
      "source": [
        "def train_model(model, X_train, Y_train, batch_size=2000, epoch_number=60):\n",
        "  model.compile(optimizer=tf.keras.optimizers.Nadam(learning_rate=0.001),\n",
        "                loss=tf.keras.losses.CategoricalCrossentropy(),\n",
        "                metrics=['accuracy'])\n",
        "  ln_fc = lambda x: 1e-3 * 0.985 ** x\n",
        "  lrng_rt = tf.keras.callbacks.LearningRateScheduler(ln_fc)\n",
        "  result = model.fit(x=X_train,y=Y_train,batch_size=batch_size,epochs=epoch_number,callbacks=[lrng_rt],\n",
        "                     verbose=1,shuffle=False,initial_epoch=0,validation_split=0.2)\n",
        "\n",
        "  show_plot(result.history)\n",
        "\n",
        "  return model\n",
        "\n",
        "def train_model_with_augmentation(model, X_train, Y_train, batch_size=1024, epoch_number=2):\n",
        "  model.compile(optimizer='adam', loss='categorical_crossentropy',metrics=['accuracy'])\n",
        "  datagen = tf.keras.preprocessing.image.ImageDataGenerator(rotation_range=40, zoom_range=0.2, validation_split=0.2) # Create Data Augmentation (DA) Iterator\n",
        "  datagen.fit(X_train) # Our DA Iterator is trained with the image data, to calculate internal statistics\n",
        "  ln_fc = lambda x: 1e-3 * 0.945 ** x # Let's add callbacks, which adjust learning rate\n",
        "  lrng_rt = tf.keras.callbacks.LearningRateScheduler(ln_fc)\n",
        "  # Fit our CNN-model using the DA Iterator using Flow-method, which feeds batches of augmented data:\n",
        "#  result = model.fit_generator(datagen.flow(X_train, Y_train, batch_size=batch_size),\n",
        "#                              steps_per_epoch=len(X_train)/batch_size,verbose = 1,epochs=epoch_number,callbacks=[lrng_rt])\n",
        "\n",
        "  history = dict()\n",
        "  history[\"loss\"] = list()\n",
        "  history[\"accuracy\"] = list()\n",
        "  history[\"val_loss\"] = list()\n",
        "  history[\"val_accuracy\"] = list()\n",
        "  for e in range(epoch_number):\n",
        "      print('Epoch', e)\n",
        "      batches = 0\n",
        "      for x_batch, y_batch in datagen.flow(X_train, Y_train, batch_size=batch_size):\n",
        "          print('Batch', batches+1, '/', math.ceil(len(X_train) / batch_size))\n",
        "          hist = model.fit(x=X_train,y=Y_train,batch_size=batch_size,verbose=1,validation_split=0.2).history\n",
        "          history[\"loss\"].append(hist[\"loss\"][0])\n",
        "          history[\"accuracy\"].append(hist[\"accuracy\"][0])\n",
        "          history[\"val_loss\"].append(hist[\"val_loss\"][0])\n",
        "          history[\"val_accuracy\"].append(hist[\"val_accuracy\"][0])\n",
        "          batches += 1\n",
        "          if batches >= len(X_train) / batch_size:\n",
        "              print()\n",
        "              break\n",
        "\n",
        "  show_plot(history)\n",
        "\n",
        "  return model"
      ],
      "execution_count": 0,
      "outputs": []
    },
    {
      "cell_type": "code",
      "metadata": {
        "id": "xCGjXvZR-M-y",
        "colab_type": "code",
        "colab": {}
      },
      "source": [
        "def predict_and_save_result(model, X_test, file_name):\n",
        "  test_labels = np.argmax(model.predict(X_test), axis=-1)\n",
        "  arr = [x for x in range(1,len(test_labels)+1)]\n",
        "  label = pd.DataFrame(arr,columns = [\"ImageId\"])\n",
        "  label[\"Label\"] = pd.DataFrame(test_labels)\n",
        "  result_file_path = F\"/content/gdrive/My Drive/Colab Notebooks/DigitRecognizerKaggle/Result/\"\n",
        "  label.to_csv(result_file_path+file_name,header=True,index = False)"
      ],
      "execution_count": 0,
      "outputs": []
    },
    {
      "cell_type": "code",
      "metadata": {
        "id": "61h0OAHO42f_",
        "colab_type": "code",
        "outputId": "92f8cc40-f7fa-41bd-dc94-ea360595a8f0",
        "colab": {
          "base_uri": "https://localhost:8080/",
          "height": 1000
        }
      },
      "source": [
        "#print(device_lib.list_local_devices())\n",
        "X_train, Y_train, X_test = read_dataset()\n",
        "model = create_model()\n",
        "model = train_model_with_augmentation(model, X_train, Y_train)"
      ],
      "execution_count": 53,
      "outputs": [
        {
          "output_type": "stream",
          "text": [
            "loaded\n",
            "(42000, 10)\n",
            "(42000, 28, 28, 1)\n",
            "(28000, 28, 28, 1)\n",
            "Epoch 0\n",
            "Batch 1 / 42\n",
            "33/33 [==============================] - 2s 52ms/step - loss: 20.4082 - accuracy: 0.8298 - val_loss: 16.3526 - val_accuracy: 0.1179\n",
            "Batch 2 / 42\n",
            "33/33 [==============================] - 1s 45ms/step - loss: 10.8489 - accuracy: 0.9704 - val_loss: 9.7919 - val_accuracy: 0.0955\n",
            "Batch 3 / 42\n",
            "33/33 [==============================] - 2s 46ms/step - loss: 5.9190 - accuracy: 0.9830 - val_loss: 6.4321 - val_accuracy: 0.0955\n",
            "Batch 4 / 42\n",
            "33/33 [==============================] - 1s 45ms/step - loss: 3.4117 - accuracy: 0.9884 - val_loss: 4.7075 - val_accuracy: 0.0955\n",
            "Batch 5 / 42\n",
            "33/33 [==============================] - 1s 45ms/step - loss: 2.1225 - accuracy: 0.9913 - val_loss: 3.8046 - val_accuracy: 0.0955\n",
            "Batch 6 / 42\n",
            "33/33 [==============================] - 1s 45ms/step - loss: 1.4358 - accuracy: 0.9935 - val_loss: 3.3107 - val_accuracy: 0.0955\n",
            "Batch 7 / 42\n",
            "33/33 [==============================] - 1s 45ms/step - loss: 1.0560 - accuracy: 0.9941 - val_loss: 3.0298 - val_accuracy: 0.0955\n",
            "Batch 8 / 42\n",
            "33/33 [==============================] - 2s 46ms/step - loss: 0.8303 - accuracy: 0.9953 - val_loss: 2.8511 - val_accuracy: 0.0955\n",
            "Batch 9 / 42\n",
            "33/33 [==============================] - 2s 46ms/step - loss: 0.7014 - accuracy: 0.9954 - val_loss: 2.7363 - val_accuracy: 0.2006\n",
            "Batch 10 / 42\n",
            "33/33 [==============================] - 1s 45ms/step - loss: 0.6237 - accuracy: 0.9960 - val_loss: 2.6438 - val_accuracy: 0.2004\n",
            "Batch 11 / 42\n",
            "33/33 [==============================] - 1s 45ms/step - loss: 0.5715 - accuracy: 0.9966 - val_loss: 2.5556 - val_accuracy: 0.2004\n",
            "Batch 12 / 42\n",
            "33/33 [==============================] - 1s 45ms/step - loss: 0.5359 - accuracy: 0.9965 - val_loss: 2.4685 - val_accuracy: 0.2490\n",
            "Batch 13 / 42\n",
            "33/33 [==============================] - 1s 45ms/step - loss: 0.5103 - accuracy: 0.9972 - val_loss: 2.3504 - val_accuracy: 0.8595\n",
            "Batch 14 / 42\n",
            "33/33 [==============================] - 1s 45ms/step - loss: 0.4906 - accuracy: 0.9976 - val_loss: 2.2164 - val_accuracy: 0.9069\n",
            "Batch 15 / 42\n",
            "33/33 [==============================] - 2s 45ms/step - loss: 0.4735 - accuracy: 0.9978 - val_loss: 2.0303 - val_accuracy: 0.9890\n",
            "Batch 16 / 42\n",
            "33/33 [==============================] - 1s 45ms/step - loss: 0.4608 - accuracy: 0.9975 - val_loss: 1.8421 - val_accuracy: 0.9908\n",
            "Batch 17 / 42\n",
            "33/33 [==============================] - 2s 46ms/step - loss: 0.4475 - accuracy: 0.9981 - val_loss: 1.6216 - val_accuracy: 0.9933\n",
            "Batch 18 / 42\n",
            "33/33 [==============================] - 1s 45ms/step - loss: 0.4349 - accuracy: 0.9985 - val_loss: 1.3226 - val_accuracy: 0.9912\n",
            "Batch 19 / 42\n",
            "33/33 [==============================] - 1s 45ms/step - loss: 0.4251 - accuracy: 0.9984 - val_loss: 1.1022 - val_accuracy: 0.9937\n",
            "Batch 20 / 42\n",
            "33/33 [==============================] - 2s 45ms/step - loss: 0.4144 - accuracy: 0.9987 - val_loss: 0.9092 - val_accuracy: 0.9935\n",
            "Batch 21 / 42\n",
            "33/33 [==============================] - 1s 45ms/step - loss: 0.4058 - accuracy: 0.9987 - val_loss: 0.7097 - val_accuracy: 0.9935\n",
            "Batch 22 / 42\n",
            "33/33 [==============================] - 1s 45ms/step - loss: 0.3977 - accuracy: 0.9989 - val_loss: 0.6273 - val_accuracy: 0.9924\n",
            "Batch 23 / 42\n",
            "33/33 [==============================] - 1s 45ms/step - loss: 0.3891 - accuracy: 0.9992 - val_loss: 0.5492 - val_accuracy: 0.9931\n",
            "Batch 24 / 42\n",
            "33/33 [==============================] - 1s 45ms/step - loss: 0.3801 - accuracy: 0.9993 - val_loss: 0.4841 - val_accuracy: 0.9939\n",
            "Batch 25 / 42\n",
            "33/33 [==============================] - 1s 45ms/step - loss: 0.3744 - accuracy: 0.9994 - val_loss: 0.4443 - val_accuracy: 0.9933\n",
            "Batch 26 / 42\n",
            "33/33 [==============================] - 1s 45ms/step - loss: 0.3661 - accuracy: 0.9993 - val_loss: 0.4345 - val_accuracy: 0.9935\n",
            "Batch 27 / 42\n",
            "33/33 [==============================] - 1s 45ms/step - loss: 0.3599 - accuracy: 0.9994 - val_loss: 0.3989 - val_accuracy: 0.9943\n",
            "Batch 28 / 42\n",
            "33/33 [==============================] - 1s 45ms/step - loss: 0.3535 - accuracy: 0.9996 - val_loss: 0.3779 - val_accuracy: 0.9944\n",
            "Batch 29 / 42\n",
            "33/33 [==============================] - 1s 45ms/step - loss: 0.3472 - accuracy: 0.9996 - val_loss: 0.3659 - val_accuracy: 0.9937\n",
            "Batch 30 / 42\n",
            "33/33 [==============================] - 1s 45ms/step - loss: 0.3397 - accuracy: 0.9999 - val_loss: 0.3677 - val_accuracy: 0.9942\n",
            "Batch 31 / 42\n",
            "33/33 [==============================] - 1s 45ms/step - loss: 0.3338 - accuracy: 0.9999 - val_loss: 0.3557 - val_accuracy: 0.9939\n",
            "Batch 32 / 42\n",
            "33/33 [==============================] - 2s 46ms/step - loss: 0.3300 - accuracy: 0.9995 - val_loss: 0.3483 - val_accuracy: 0.9935\n",
            "Batch 33 / 42\n",
            "33/33 [==============================] - 1s 45ms/step - loss: 0.3246 - accuracy: 0.9997 - val_loss: 0.3475 - val_accuracy: 0.9936\n",
            "Batch 34 / 42\n",
            "33/33 [==============================] - 1s 45ms/step - loss: 0.3193 - accuracy: 0.9998 - val_loss: 0.3334 - val_accuracy: 0.9942\n",
            "Batch 35 / 42\n",
            "33/33 [==============================] - 2s 46ms/step - loss: 0.3139 - accuracy: 0.9998 - val_loss: 0.3269 - val_accuracy: 0.9944\n",
            "Batch 36 / 42\n",
            "33/33 [==============================] - 1s 45ms/step - loss: 0.3095 - accuracy: 0.9997 - val_loss: 0.3298 - val_accuracy: 0.9940\n",
            "Batch 37 / 42\n",
            "33/33 [==============================] - 1s 45ms/step - loss: 0.3045 - accuracy: 0.9999 - val_loss: 0.3251 - val_accuracy: 0.9940\n",
            "Batch 38 / 42\n",
            "33/33 [==============================] - 1s 45ms/step - loss: 0.2998 - accuracy: 0.9999 - val_loss: 0.3105 - val_accuracy: 0.9937\n",
            "Batch 39 / 42\n",
            "33/33 [==============================] - 2s 46ms/step - loss: 0.2956 - accuracy: 0.9999 - val_loss: 0.3137 - val_accuracy: 0.9939\n",
            "Batch 40 / 42\n",
            "33/33 [==============================] - 1s 45ms/step - loss: 0.2916 - accuracy: 0.9999 - val_loss: 0.3068 - val_accuracy: 0.9935\n",
            "Batch 41 / 42\n",
            "33/33 [==============================] - 1s 45ms/step - loss: 0.2875 - accuracy: 0.9999 - val_loss: 0.3042 - val_accuracy: 0.9943\n",
            "Batch 42 / 42\n",
            "33/33 [==============================] - 2s 45ms/step - loss: 0.2844 - accuracy: 0.9997 - val_loss: 0.2981 - val_accuracy: 0.9939\n",
            "\n",
            "Epoch 1\n",
            "Batch 1 / 42\n",
            "33/33 [==============================] - 2s 45ms/step - loss: 0.2793 - accuracy: 0.9999 - val_loss: 0.2928 - val_accuracy: 0.9942\n",
            "Batch 2 / 42\n",
            "33/33 [==============================] - 2s 46ms/step - loss: 0.2757 - accuracy: 0.9999 - val_loss: 0.2915 - val_accuracy: 0.9944\n",
            "Batch 3 / 42\n",
            "33/33 [==============================] - 1s 45ms/step - loss: 0.2737 - accuracy: 0.9998 - val_loss: 0.2839 - val_accuracy: 0.9937\n",
            "Batch 4 / 42\n",
            "33/33 [==============================] - 2s 45ms/step - loss: 0.2692 - accuracy: 0.9999 - val_loss: 0.2866 - val_accuracy: 0.9940\n",
            "Batch 5 / 42\n",
            "33/33 [==============================] - 1s 45ms/step - loss: 0.2656 - accuracy: 0.9999 - val_loss: 0.2803 - val_accuracy: 0.9940\n",
            "Batch 6 / 42\n",
            "33/33 [==============================] - 1s 45ms/step - loss: 0.2626 - accuracy: 0.9999 - val_loss: 0.2760 - val_accuracy: 0.9944\n",
            "Batch 7 / 42\n",
            "33/33 [==============================] - 1s 45ms/step - loss: 0.2590 - accuracy: 0.9999 - val_loss: 0.2808 - val_accuracy: 0.9942\n",
            "Batch 8 / 42\n",
            "33/33 [==============================] - 1s 45ms/step - loss: 0.2557 - accuracy: 1.0000 - val_loss: 0.2771 - val_accuracy: 0.9940\n",
            "Batch 9 / 42\n",
            "33/33 [==============================] - 1s 45ms/step - loss: 0.2531 - accuracy: 0.9999 - val_loss: 0.2681 - val_accuracy: 0.9942\n",
            "Batch 10 / 42\n",
            "33/33 [==============================] - 1s 45ms/step - loss: 0.2500 - accuracy: 0.9999 - val_loss: 0.2650 - val_accuracy: 0.9940\n",
            "Batch 11 / 42\n",
            "33/33 [==============================] - 2s 46ms/step - loss: 0.2473 - accuracy: 1.0000 - val_loss: 0.2629 - val_accuracy: 0.9939\n",
            "Batch 12 / 42\n",
            "33/33 [==============================] - 1s 45ms/step - loss: 0.2444 - accuracy: 0.9999 - val_loss: 0.2612 - val_accuracy: 0.9945\n",
            "Batch 13 / 42\n",
            "33/33 [==============================] - 1s 45ms/step - loss: 0.2416 - accuracy: 1.0000 - val_loss: 0.2624 - val_accuracy: 0.9940\n",
            "Batch 14 / 42\n",
            "33/33 [==============================] - 1s 45ms/step - loss: 0.2393 - accuracy: 1.0000 - val_loss: 0.2593 - val_accuracy: 0.9942\n",
            "Batch 15 / 42\n",
            "33/33 [==============================] - 1s 45ms/step - loss: 0.2363 - accuracy: 1.0000 - val_loss: 0.2539 - val_accuracy: 0.9944\n",
            "Batch 16 / 42\n",
            "33/33 [==============================] - 1s 45ms/step - loss: 0.2343 - accuracy: 1.0000 - val_loss: 0.2472 - val_accuracy: 0.9935\n",
            "Batch 17 / 42\n",
            "33/33 [==============================] - 1s 45ms/step - loss: 0.2313 - accuracy: 0.9999 - val_loss: 0.2469 - val_accuracy: 0.9942\n",
            "Batch 18 / 42\n",
            "33/33 [==============================] - 2s 46ms/step - loss: 0.2285 - accuracy: 1.0000 - val_loss: 0.2495 - val_accuracy: 0.9948\n",
            "Batch 19 / 42\n",
            "33/33 [==============================] - 1s 45ms/step - loss: 0.2265 - accuracy: 0.9999 - val_loss: 0.2397 - val_accuracy: 0.9942\n",
            "Batch 20 / 42\n",
            "33/33 [==============================] - 2s 46ms/step - loss: 0.2238 - accuracy: 1.0000 - val_loss: 0.2490 - val_accuracy: 0.9940\n",
            "Batch 21 / 42\n",
            "33/33 [==============================] - 1s 45ms/step - loss: 0.2243 - accuracy: 0.9997 - val_loss: 0.2450 - val_accuracy: 0.9920\n",
            "Batch 22 / 42\n",
            "33/33 [==============================] - 1s 45ms/step - loss: 0.2213 - accuracy: 0.9999 - val_loss: 0.2506 - val_accuracy: 0.9940\n",
            "Batch 23 / 42\n",
            "33/33 [==============================] - 1s 45ms/step - loss: 0.2175 - accuracy: 0.9999 - val_loss: 0.2359 - val_accuracy: 0.9942\n",
            "Batch 24 / 42\n",
            "33/33 [==============================] - 1s 45ms/step - loss: 0.2146 - accuracy: 0.9999 - val_loss: 0.2369 - val_accuracy: 0.9943\n",
            "Batch 25 / 42\n",
            "33/33 [==============================] - 2s 45ms/step - loss: 0.2125 - accuracy: 1.0000 - val_loss: 0.2299 - val_accuracy: 0.9943\n",
            "Batch 26 / 42\n",
            "33/33 [==============================] - 1s 45ms/step - loss: 0.2107 - accuracy: 1.0000 - val_loss: 0.2288 - val_accuracy: 0.9946\n",
            "Batch 27 / 42\n",
            "33/33 [==============================] - 1s 45ms/step - loss: 0.2085 - accuracy: 1.0000 - val_loss: 0.2243 - val_accuracy: 0.9943\n",
            "Batch 28 / 42\n",
            "33/33 [==============================] - 1s 45ms/step - loss: 0.2062 - accuracy: 0.9999 - val_loss: 0.2230 - val_accuracy: 0.9940\n",
            "Batch 29 / 42\n",
            "33/33 [==============================] - 2s 46ms/step - loss: 0.2045 - accuracy: 1.0000 - val_loss: 0.2248 - val_accuracy: 0.9938\n",
            "Batch 30 / 42\n",
            "33/33 [==============================] - 1s 45ms/step - loss: 0.2028 - accuracy: 1.0000 - val_loss: 0.2323 - val_accuracy: 0.9940\n",
            "Batch 31 / 42\n",
            "33/33 [==============================] - 1s 45ms/step - loss: 0.2011 - accuracy: 1.0000 - val_loss: 0.2183 - val_accuracy: 0.9946\n",
            "Batch 32 / 42\n",
            "33/33 [==============================] - 1s 45ms/step - loss: 0.1987 - accuracy: 1.0000 - val_loss: 0.2226 - val_accuracy: 0.9945\n",
            "Batch 33 / 42\n",
            "33/33 [==============================] - 1s 45ms/step - loss: 0.1971 - accuracy: 0.9999 - val_loss: 0.2090 - val_accuracy: 0.9938\n",
            "Batch 34 / 42\n",
            "33/33 [==============================] - 1s 45ms/step - loss: 0.1950 - accuracy: 1.0000 - val_loss: 0.2125 - val_accuracy: 0.9945\n",
            "Batch 35 / 42\n",
            "33/33 [==============================] - 1s 45ms/step - loss: 0.1932 - accuracy: 1.0000 - val_loss: 0.2132 - val_accuracy: 0.9942\n",
            "Batch 36 / 42\n",
            "33/33 [==============================] - 2s 46ms/step - loss: 0.1917 - accuracy: 1.0000 - val_loss: 0.2048 - val_accuracy: 0.9935\n",
            "Batch 37 / 42\n",
            "33/33 [==============================] - 1s 45ms/step - loss: 0.1894 - accuracy: 1.0000 - val_loss: 0.2089 - val_accuracy: 0.9946\n",
            "Batch 38 / 42\n",
            "33/33 [==============================] - 1s 45ms/step - loss: 0.1877 - accuracy: 0.9999 - val_loss: 0.2030 - val_accuracy: 0.9943\n",
            "Batch 39 / 42\n",
            "33/33 [==============================] - 1s 45ms/step - loss: 0.1871 - accuracy: 1.0000 - val_loss: 0.1965 - val_accuracy: 0.9943\n",
            "Batch 40 / 42\n",
            "33/33 [==============================] - 2s 45ms/step - loss: 0.1851 - accuracy: 1.0000 - val_loss: 0.2035 - val_accuracy: 0.9943\n",
            "Batch 41 / 42\n",
            "33/33 [==============================] - 1s 45ms/step - loss: 0.1834 - accuracy: 1.0000 - val_loss: 0.1941 - val_accuracy: 0.9942\n",
            "Batch 42 / 42\n",
            "33/33 [==============================] - 1s 45ms/step - loss: 0.1814 - accuracy: 1.0000 - val_loss: 0.1955 - val_accuracy: 0.9943\n",
            "\n"
          ],
          "name": "stdout"
        },
        {
          "output_type": "display_data",
          "data": {
            "image/png": "[encoded data removed]",
            "text/plain": [
              "<Figure size 432x288 with 1 Axes>"
            ]
          },
          "metadata": {
            "tags": [],
            "needs_background": "light"
          }
        },
        {
          "output_type": "display_data",
          "data": {
            "image/png": "[encoded data removed]",
            "text/plain": [
              "<Figure size 432x288 with 1 Axes>"
            ]
          },
          "metadata": {
            "tags": [],
            "needs_background": "light"
          }
        }
      ]
    },
    {
      "cell_type": "code",
      "metadata": {
        "id": "hmQtgNat8j0w",
        "colab_type": "code",
        "colab": {}
      },
      "source": [
        "predict_and_save_result(model, X_test, \"result_5.csv\")"
      ],
      "execution_count": 0,
      "outputs": []
    }
  ]
}