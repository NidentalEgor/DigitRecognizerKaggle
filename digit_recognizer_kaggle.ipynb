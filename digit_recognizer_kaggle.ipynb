{
  "nbformat": 4,
  "nbformat_minor": 0,
  "metadata": {
    "colab": {
      "name": "mnist_test.ipynb",
      "provenance": [],
      "collapsed_sections": [],
      "authorship_tag": "ABX9TyPr7ZEXAEjO0qvEZVc/nJ7m",
      "include_colab_link": true
    },
    "kernelspec": {
      "name": "python3",
      "display_name": "Python 3"
    },
    "accelerator": "GPU"
  },
  "cells": [
    {
      "cell_type": "markdown",
      "metadata": {
        "id": "view-in-github",
        "colab_type": "text"
      },
      "source": [
        "<a href=\"https://colab.research.google.com/github/NidentalEgor/DigitRecognizerKaggle/blob/master/digit_recognizer_kaggle.ipynb\" target=\"_parent\"><img src=\"https://colab.research.google.com/assets/colab-badge.svg\" alt=\"Open In Colab\"/></a>"
      ]
    },
    {
      "cell_type": "code",
      "metadata": {
        "id": "sl4F5GfJr6ET",
        "colab_type": "code",
        "outputId": "0e08c2f0-7566-46cc-d7c8-79320c4fe4e1",
        "colab": {
          "base_uri": "https://localhost:8080/",
          "height": 122
        }
      },
      "source": [
        "from google.colab import drive\n",
        "drive.mount('/content/gdrive')"
      ],
      "execution_count": 1,
      "outputs": [
        {
          "output_type": "stream",
          "text": [
            "Go to this URL in a browser: https://accounts.google.com/o/oauth2/auth?client_id=947318989803-6bn6qk8qdgf4n4g3pfee6491hc0brc4i.apps.googleusercontent.com&redirect_uri=urn%3aietf%3awg%3aoauth%3a2.0%3aoob&response_type=code&scope=email%20https%3a%2f%2fwww.googleapis.com%2fauth%2fdocs.test%20https%3a%2f%2fwww.googleapis.com%2fauth%2fdrive%20https%3a%2f%2fwww.googleapis.com%2fauth%2fdrive.photos.readonly%20https%3a%2f%2fwww.googleapis.com%2fauth%2fpeopleapi.readonly\n",
            "\n",
            "Enter your authorization code:\n",
            "··········\n",
            "Mounted at /content/gdrive\n"
          ],
          "name": "stdout"
        }
      ]
    },
    {
      "cell_type": "code",
      "metadata": {
        "id": "c3lJr_es5Mdl",
        "colab_type": "code",
        "colab": {}
      },
      "source": [
        "from keras.datasets import mnist\n",
        "import tensorflow as tf\n",
        "import numpy as np\n",
        "import pandas as pd\n",
        "import matplotlib.pyplot as plt"
      ],
      "execution_count": 0,
      "outputs": []
    },
    {
      "cell_type": "code",
      "metadata": {
        "id": "KkbiGScAchHd",
        "colab_type": "code",
        "colab": {}
      },
      "source": [
        "def read_dataset():\n",
        "  #(X_train, y_train), (X_test, y_test) = mnist.load_data()\n",
        "  #print(\"downloaded\")\n",
        "  #return X_train, y_train, X_test\n",
        "\n",
        "  train_data_file = F\"/content/gdrive/My Drive/Colab Notebooks/DigitRecognizerKaggle/Input/train.csv\"\n",
        "  test_data_file = F\"/content/gdrive/My Drive/Colab Notebooks/DigitRecognizerKaggle/Input/test.csv\"\n",
        "  print(\"loaded\")\n",
        "\n",
        "  train_data = pd.read_csv(train_data_file)\n",
        "  test_data = pd.read_csv(test_data_file)\n",
        "\n",
        "  Y_train = train_data.iloc[:,0].to_numpy() # normalization\n",
        "  Y_train_result = tf.keras.utils.to_categorical(Y_train.reshape(-1,1))\n",
        "  print(Y_train_result.shape)\n",
        "  X_train = train_data.iloc[:,1:].to_numpy() / 255.0 # normalization\n",
        "  X_train_result = X_train.reshape(-1,28,28,1)\n",
        "  print(X_train_result.shape)\n",
        "\n",
        "  X_test = test_data.to_numpy() / 255.0 # normalization\n",
        "  X_test_result = X_test.reshape(-1,28,28,1)\n",
        "  print(X_test_result.shape)\n",
        "  \n",
        "  return X_train_result, Y_train_result, X_test_result"
      ],
      "execution_count": 0,
      "outputs": []
    },
    {
      "cell_type": "code",
      "metadata": {
        "id": "mXWtdUSv6C4-",
        "colab_type": "code",
        "colab": {}
      },
      "source": [
        "def create_model(show_summary = False):\n",
        "  model = tf.keras.Sequential([\n",
        "    tf.keras.layers.Conv2D(64, 3, activation='relu', input_shape=(28,28,1),padding=\"same\"),\n",
        "    tf.keras.layers.MaxPool2D(strides=2),\n",
        "    \n",
        "    \n",
        "    tf.keras.layers.Conv2D(128, 3, activation='relu',padding=\"same\"),\n",
        "    tf.keras.layers.MaxPool2D(strides=2),\n",
        "    \n",
        "    tf.keras.layers.Dropout(0.2),\n",
        "        \n",
        "    tf.keras.layers.Conv2D(256, 3, activation='relu',padding=\"same\"),\n",
        "    tf.keras.layers.MaxPool2D(strides=2),\n",
        "    \n",
        "    tf.keras.layers.Conv2D(256, 3, activation='relu',padding=\"same\"),\n",
        "    tf.keras.layers.MaxPool2D(strides=2),\n",
        "        \n",
        "    tf.keras.layers.Flatten(),\n",
        "    tf.keras.layers.Dense(100,kernel_regularizer=tf.keras.regularizers.l2(0.01), activation='relu'),\n",
        "    \n",
        "    tf.keras.layers.Dense(50,kernel_regularizer=tf.keras.regularizers.l2(0.01), activation='relu'),\n",
        "        \n",
        "    tf.keras.layers.Dense(10, kernel_regularizer=tf.keras.regularizers.l2(0.01) ,activation='softmax')\n",
        "])\n",
        "\n",
        "  if(show_summary == True):\n",
        "    model.summary()\n",
        "\n",
        "  return model"
      ],
      "execution_count": 0,
      "outputs": []
    },
    {
      "cell_type": "code",
      "metadata": {
        "id": "ImwvxYnAzUe6",
        "colab_type": "code",
        "colab": {}
      },
      "source": [
        "def show_plot(result):\n",
        "  plt.plot(result.history['accuracy'], label='train')\n",
        "  plt.plot(result.history['val_accuracy'], label='valid')\n",
        "  plt.legend(loc='upper left')\n",
        "  plt.title('Model accuracy')\n",
        "  plt.ylabel('Accuracy')\n",
        "  plt.xlabel('Epoch')\n",
        "  plt.show()\n",
        "  plt.plot(result.history['loss'], label='train')\n",
        "  plt.plot(result.history['val_loss'], label='test')\n",
        "  plt.legend(loc='upper right')\n",
        "  plt.title('Model loss')\n",
        "  plt.ylabel('Loss')\n",
        "  plt.xlabel('Epoch')\n",
        "  plt.show()"
      ],
      "execution_count": 0,
      "outputs": []
    },
    {
      "cell_type": "code",
      "metadata": {
        "id": "L_sq5k926ti2",
        "colab_type": "code",
        "colab": {}
      },
      "source": [
        "def train_model(model, X_train, Y_train, batch_size, epoch_number):\n",
        "  model.compile(optimizer=tf.keras.optimizers.Nadam(learning_rate=0.001),\n",
        "                loss=tf.keras.losses.CategoricalCrossentropy(),\n",
        "                metrics=['accuracy'])\n",
        "\n",
        "  result = model.fit(x=X_train,y=Y_train,batch_size=batch_size,epochs=epoch_number,\n",
        "                     verbose=1,shuffle=False,initial_epoch=0, validation_split=0.2)\n",
        "  show_plot(result)\n",
        "  return model"
      ],
      "execution_count": 0,
      "outputs": []
    },
    {
      "cell_type": "code",
      "metadata": {
        "id": "xCGjXvZR-M-y",
        "colab_type": "code",
        "colab": {}
      },
      "source": [
        "def predict_and_save_result(model, X_test):\n",
        "  test_labels = np.argmax(model.predict(X_test), axis=-1)\n",
        "  arr = [x for x in range(1,len(test_labels)+1)]\n",
        "  label = pd.DataFrame(arr,columns = [\"ImageId\"])\n",
        "  label[\"Label\"] = pd.DataFrame(test_labels)\n",
        "  result_file_path = F\"/content/gdrive/My Drive/Colab Notebooks/DigitRecognizerKaggle/Result/result_4.csv\"\n",
        "  label.to_csv(result_file_path,header=True,index = False)"
      ],
      "execution_count": 0,
      "outputs": []
    },
    {
      "cell_type": "code",
      "metadata": {
        "id": "61h0OAHO42f_",
        "colab_type": "code",
        "outputId": "f091a075-71e9-4f98-d511-5fce4a0bffff",
        "colab": {
          "base_uri": "https://localhost:8080/",
          "height": 1000
        }
      },
      "source": [
        "X_train, Y_train, X_test = read_dataset()\n",
        "model = create_model()\n",
        "model = train_model(model, X_train, Y_train, 8192, 20)\n",
        "predict_and_save_result(model, X_test)"
      ],
      "execution_count": 27,
      "outputs": [
        {
          "output_type": "stream",
          "text": [
            "loaded\n",
            "(42000, 10)\n",
            "(42000, 28, 28, 1)\n",
            "(28000, 28, 28, 1)\n",
            "Epoch 1/20\n",
            "5/5 [==============================] - 3s 622ms/step - loss: 4.4585 - accuracy: 0.1863 - val_loss: 4.2895 - val_accuracy: 0.3193\n",
            "Epoch 2/20\n",
            "5/5 [==============================] - 3s 597ms/step - loss: 4.1987 - accuracy: 0.2267 - val_loss: 3.7845 - val_accuracy: 0.3905\n",
            "Epoch 3/20\n",
            "5/5 [==============================] - 3s 634ms/step - loss: 3.8911 - accuracy: 0.3163 - val_loss: 3.5009 - val_accuracy: 0.5480\n",
            "Epoch 4/20\n",
            "5/5 [==============================] - 3s 582ms/step - loss: 3.4356 - accuracy: 0.4870 - val_loss: 2.8363 - val_accuracy: 0.6925\n",
            "Epoch 5/20\n",
            "5/5 [==============================] - 3s 581ms/step - loss: 3.1007 - accuracy: 0.5409 - val_loss: 2.5439 - val_accuracy: 0.8000\n",
            "Epoch 6/20\n",
            "5/5 [==============================] - 3s 577ms/step - loss: 2.4684 - accuracy: 0.7836 - val_loss: 2.5110 - val_accuracy: 0.6549\n",
            "Epoch 7/20\n",
            "5/5 [==============================] - 3s 582ms/step - loss: 2.2997 - accuracy: 0.7759 - val_loss: 2.3727 - val_accuracy: 0.7127\n",
            "Epoch 8/20\n",
            "5/5 [==============================] - 3s 583ms/step - loss: 2.1496 - accuracy: 0.7870 - val_loss: 1.9194 - val_accuracy: 0.8456\n",
            "Epoch 9/20\n",
            "5/5 [==============================] - 3s 583ms/step - loss: 1.9589 - accuracy: 0.8343 - val_loss: 1.7438 - val_accuracy: 0.9086\n",
            "Epoch 10/20\n",
            "5/5 [==============================] - 3s 584ms/step - loss: 1.7026 - accuracy: 0.9129 - val_loss: 1.6694 - val_accuracy: 0.9008\n",
            "Epoch 11/20\n",
            "5/5 [==============================] - 3s 583ms/step - loss: 1.7085 - accuracy: 0.8792 - val_loss: 1.5728 - val_accuracy: 0.9304\n",
            "Epoch 12/20\n",
            "5/5 [==============================] - 3s 584ms/step - loss: 1.5197 - accuracy: 0.9332 - val_loss: 1.4741 - val_accuracy: 0.9379\n",
            "Epoch 13/20\n",
            "5/5 [==============================] - 3s 583ms/step - loss: 1.4375 - accuracy: 0.9418 - val_loss: 1.4290 - val_accuracy: 0.9432\n",
            "Epoch 14/20\n",
            "5/5 [==============================] - 3s 584ms/step - loss: 1.6811 - accuracy: 0.8929 - val_loss: 2.4149 - val_accuracy: 0.6413\n",
            "Epoch 15/20\n",
            "5/5 [==============================] - 3s 580ms/step - loss: 1.6959 - accuracy: 0.8438 - val_loss: 1.3599 - val_accuracy: 0.9438\n",
            "Epoch 16/20\n",
            "5/5 [==============================] - 3s 580ms/step - loss: 1.3129 - accuracy: 0.9470 - val_loss: 1.2829 - val_accuracy: 0.9495\n",
            "Epoch 17/20\n",
            "5/5 [==============================] - 3s 582ms/step - loss: 1.2483 - accuracy: 0.9493 - val_loss: 1.2346 - val_accuracy: 0.9536\n",
            "Epoch 18/20\n",
            "5/5 [==============================] - 3s 586ms/step - loss: 1.1985 - accuracy: 0.9536 - val_loss: 1.2192 - val_accuracy: 0.9440\n",
            "Epoch 19/20\n",
            "5/5 [==============================] - 3s 584ms/step - loss: 1.1848 - accuracy: 0.9435 - val_loss: 1.1421 - val_accuracy: 0.9612\n",
            "Epoch 20/20\n",
            "5/5 [==============================] - 3s 583ms/step - loss: 1.1063 - accuracy: 0.9618 - val_loss: 1.1094 - val_accuracy: 0.9610\n"
          ],
          "name": "stdout"
        },
        {
          "output_type": "display_data",
          "data": {
            "image/png": "[encoded data removed]",
            "text/plain": [
              "<Figure size 432x288 with 1 Axes>"
            ]
          },
          "metadata": {
            "tags": [],
            "needs_background": "light"
          }
        },
        {
          "output_type": "display_data",
          "data": {
            "image/png": "[encoded data removed]",
            "text/plain": [
              "<Figure size 432x288 with 1 Axes>"
            ]
          },
          "metadata": {
            "tags": [],
            "needs_background": "light"
          }
        }
      ]
    }
  ]
}