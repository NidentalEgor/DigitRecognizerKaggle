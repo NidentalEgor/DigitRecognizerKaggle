{
  "nbformat": 4,
  "nbformat_minor": 0,
  "metadata": {
    "colab": {
      "name": "mnist_test.ipynb",
      "provenance": [],
      "collapsed_sections": [],
      "authorship_tag": "ABX9TyMNSAaUWZ9WYzxunwuQ0EQ8",
      "include_colab_link": true
    },
    "kernelspec": {
      "name": "python3",
      "display_name": "Python 3"
    },
    "accelerator": "GPU"
  },
  "cells": [
    {
      "cell_type": "markdown",
      "metadata": {
        "id": "view-in-github",
        "colab_type": "text"
      },
      "source": [
        "<a href=\"https://colab.research.google.com/github/NidentalEgor/DigitRecognizerKaggle/blob/master/digit_recognizer_kaggle.ipynb\" target=\"_parent\"><img src=\"https://colab.research.google.com/assets/colab-badge.svg\" alt=\"Open In Colab\"/></a>"
      ]
    },
    {
      "cell_type": "code",
      "metadata": {
        "id": "sl4F5GfJr6ET",
        "colab_type": "code",
        "outputId": "0e08c2f0-7566-46cc-d7c8-79320c4fe4e1",
        "colab": {
          "base_uri": "https://localhost:8080/",
          "height": 122
        }
      },
      "source": [
        "from google.colab import drive\n",
        "drive.mount('/content/gdrive')"
      ],
      "execution_count": 1,
      "outputs": [
        {
          "output_type": "stream",
          "text": [
            "Go to this URL in a browser: https://accounts.google.com/o/oauth2/auth?client_id=947318989803-6bn6qk8qdgf4n4g3pfee6491hc0brc4i.apps.googleusercontent.com&redirect_uri=urn%3aietf%3awg%3aoauth%3a2.0%3aoob&response_type=code&scope=email%20https%3a%2f%2fwww.googleapis.com%2fauth%2fdocs.test%20https%3a%2f%2fwww.googleapis.com%2fauth%2fdrive%20https%3a%2f%2fwww.googleapis.com%2fauth%2fdrive.photos.readonly%20https%3a%2f%2fwww.googleapis.com%2fauth%2fpeopleapi.readonly\n",
            "\n",
            "Enter your authorization code:\n",
            "··········\n",
            "Mounted at /content/gdrive\n"
          ],
          "name": "stdout"
        }
      ]
    },
    {
      "cell_type": "code",
      "metadata": {
        "id": "c3lJr_es5Mdl",
        "colab_type": "code",
        "colab": {
          "base_uri": "https://localhost:8080/",
          "height": 34
        },
        "outputId": "56ff93ea-7ef3-4581-bc6b-7b52b3d26155"
      },
      "source": [
        "from keras.datasets import mnist\n",
        "import tensorflow as tf\n",
        "import numpy as np\n",
        "import pandas as pd\n",
        "import matplotlib.pyplot as plt"
      ],
      "execution_count": 2,
      "outputs": [
        {
          "output_type": "stream",
          "text": [
            "Using TensorFlow backend.\n"
          ],
          "name": "stderr"
        }
      ]
    },
    {
      "cell_type": "code",
      "metadata": {
        "id": "KkbiGScAchHd",
        "colab_type": "code",
        "colab": {}
      },
      "source": [
        "def read_dataset():\n",
        "  #(X_train, y_train), (X_test, y_test) = mnist.load_data()\n",
        "  #print(\"downloaded\")\n",
        "  #return X_train, y_train, X_test\n",
        "\n",
        "  train_data_file = F\"/content/gdrive/My Drive/Colab Notebooks/DigitRecognizerKaggle/Input/train.csv\"\n",
        "  test_data_file = F\"/content/gdrive/My Drive/Colab Notebooks/DigitRecognizerKaggle/Input/test.csv\"\n",
        "  print(\"loaded\")\n",
        "\n",
        "  train_data = pd.read_csv(train_data_file)\n",
        "  test_data = pd.read_csv(test_data_file)\n",
        "\n",
        "  Y_train = train_data.iloc[:,0].to_numpy()\n",
        "  X_train = train_data.iloc[:,1:].to_numpy()\n",
        "  print(Y_train.shape)\n",
        "  print(X_train.shape)\n",
        "  #print(Y_train[:5])\n",
        "  #print(X_train[:5])\n",
        "\n",
        "  X_test = test_data.to_numpy()\n",
        "  \n",
        "  return X_train, Y_train, X_test"
      ],
      "execution_count": 0,
      "outputs": []
    },
    {
      "cell_type": "code",
      "metadata": {
        "id": "mXWtdUSv6C4-",
        "colab_type": "code",
        "colab": {}
      },
      "source": [
        "def create_model(show_summary = False):\n",
        "  model = tf.keras.Sequential([\n",
        "    tf.keras.layers.Conv2D(64, 3, activation='relu', input_shape=(28,28,1),padding=\"same\"),\n",
        "    tf.keras.layers.MaxPool2D(strides=2),\n",
        "    \n",
        "    \n",
        "    tf.keras.layers.Conv2D(128, 3, activation='relu',padding=\"same\"),\n",
        "    tf.keras.layers.MaxPool2D(strides=2),\n",
        "    \n",
        "    tf.keras.layers.Dropout(0.2),\n",
        "        \n",
        "    tf.keras.layers.Conv2D(256, 3, activation='relu',padding=\"same\"),\n",
        "    tf.keras.layers.MaxPool2D(strides=2),\n",
        "    \n",
        "    tf.keras.layers.Conv2D(256, 3, activation='relu',padding=\"same\"),\n",
        "    tf.keras.layers.MaxPool2D(strides=2),\n",
        "        \n",
        "    tf.keras.layers.Flatten(),\n",
        "    tf.keras.layers.Dense(100,kernel_regularizer=tf.keras.regularizers.l2(0.01), activation='relu'),\n",
        "    \n",
        "    tf.keras.layers.Dense(50,kernel_regularizer=tf.keras.regularizers.l2(0.01), activation='relu'),\n",
        "        \n",
        "    tf.keras.layers.Dense(10, kernel_regularizer=tf.keras.regularizers.l2(0.01) ,activation='softmax')\n",
        "])\n",
        "\n",
        "  if(show_summary == True):\n",
        "    model.summary()\n",
        "\n",
        "  return model"
      ],
      "execution_count": 0,
      "outputs": []
    },
    {
      "cell_type": "code",
      "metadata": {
        "id": "ImwvxYnAzUe6",
        "colab_type": "code",
        "colab": {}
      },
      "source": [
        "def show_plot(result):\n",
        "  plt.plot(result.history['accuracy'], label='train')\n",
        "  plt.plot(result.history['val_accuracy'], label='valid')\n",
        "  plt.legend(loc='upper left')\n",
        "  plt.title('Model accuracy')\n",
        "  plt.ylabel('Accuracy')\n",
        "  plt.xlabel('Epoch')\n",
        "  plt.show()\n",
        "  plt.plot(result.history['loss'], label='train')\n",
        "  plt.plot(result.history['val_loss'], label='test')\n",
        "  plt.legend(loc='upper right')\n",
        "  plt.title('Model loss')\n",
        "  plt.ylabel('Loss')\n",
        "  plt.xlabel('Epoch')\n",
        "  plt.show()"
      ],
      "execution_count": 0,
      "outputs": []
    },
    {
      "cell_type": "code",
      "metadata": {
        "id": "L_sq5k926ti2",
        "colab_type": "code",
        "colab": {}
      },
      "source": [
        "def train_model(model, X_train, Y_train, batch_size, epoch_number):\n",
        "  X_t = X_train.reshape(-1,28,28,1)\n",
        "  print(X_train.shape, X_t.shape)\n",
        "  Y_t = tf.keras.utils.to_categorical(Y_train.reshape(-1,1))\n",
        "\n",
        "  model.compile(optimizer=tf.keras.optimizers.Nadam(learning_rate=0.001),\n",
        "                loss=tf.keras.losses.CategoricalCrossentropy(),\n",
        "                metrics=['accuracy'])\n",
        "\n",
        "  result = model.fit(x=X_t,y=Y_t,batch_size=batch_size,epochs=epoch_number,\n",
        "                     verbose=1,shuffle=False,initial_epoch=0, validation_split=0.2)\n",
        "  show_plot(result)\n",
        "  return model"
      ],
      "execution_count": 0,
      "outputs": []
    },
    {
      "cell_type": "code",
      "metadata": {
        "id": "xCGjXvZR-M-y",
        "colab_type": "code",
        "colab": {}
      },
      "source": [
        "def predict_and_save_result(model, X_test):\n",
        "  X_t = X_test.reshape(-1,28,28,1)\n",
        "  test_labels = np.argmax(model.predict(X_t), axis=-1)\n",
        "  arr = [x for x in range(1,len(test_labels)+1)]\n",
        "  label = pd.DataFrame(arr,columns = [\"ImageId\"])\n",
        "  label[\"Label\"] = pd.DataFrame(test_labels)\n",
        "  result_file_path = F\"/content/gdrive/My Drive/Colab Notebooks/DigitRecognizerKaggle/Result/result_3.csv\"\n",
        "  label.to_csv(result_file_path,header=True,index = False)"
      ],
      "execution_count": 0,
      "outputs": []
    },
    {
      "cell_type": "code",
      "metadata": {
        "id": "61h0OAHO42f_",
        "colab_type": "code",
        "outputId": "ea571fb6-52e5-44ef-f82d-6afbef192e76",
        "colab": {
          "base_uri": "https://localhost:8080/",
          "height": 1000
        }
      },
      "source": [
        "X_train, Y_train, X_test = read_dataset()\n",
        "model = create_model()\n",
        "model = train_model(model, X_train, Y_train, 8192, 20)\n",
        "predict_and_save_result(model, X_test)"
      ],
      "execution_count": 11,
      "outputs": [
        {
          "output_type": "stream",
          "text": [
            "loaded\n",
            "(42000,)\n",
            "(42000, 784)\n",
            "(42000, 784) (42000, 28, 28, 1)\n",
            "Epoch 1/20\n",
            "5/5 [==============================] - 3s 603ms/step - loss: 22.2581 - accuracy: 0.0989 - val_loss: 7.5738 - val_accuracy: 0.0962\n",
            "Epoch 2/20\n",
            "5/5 [==============================] - 3s 578ms/step - loss: 5.9570 - accuracy: 0.1177 - val_loss: 4.2683 - val_accuracy: 0.3790\n",
            "Epoch 3/20\n",
            "5/5 [==============================] - 3s 576ms/step - loss: 4.1519 - accuracy: 0.3594 - val_loss: 3.8881 - val_accuracy: 0.5149\n",
            "Epoch 4/20\n",
            "5/5 [==============================] - 3s 574ms/step - loss: 3.7723 - accuracy: 0.5328 - val_loss: 3.4975 - val_accuracy: 0.6618\n",
            "Epoch 5/20\n",
            "5/5 [==============================] - 3s 573ms/step - loss: 3.5386 - accuracy: 0.5384 - val_loss: 3.1484 - val_accuracy: 0.7199\n",
            "Epoch 6/20\n",
            "5/5 [==============================] - 3s 598ms/step - loss: 3.1961 - accuracy: 0.6554 - val_loss: 3.0988 - val_accuracy: 0.6589\n",
            "Epoch 7/20\n",
            "5/5 [==============================] - 3s 574ms/step - loss: 2.9494 - accuracy: 0.7136 - val_loss: 2.7399 - val_accuracy: 0.7980\n",
            "Epoch 8/20\n",
            "5/5 [==============================] - 3s 572ms/step - loss: 2.5071 - accuracy: 0.8299 - val_loss: 2.2949 - val_accuracy: 0.8935\n",
            "Epoch 9/20\n",
            "5/5 [==============================] - 3s 578ms/step - loss: 2.4350 - accuracy: 0.8164 - val_loss: 2.2462 - val_accuracy: 0.8968\n",
            "Epoch 10/20\n",
            "5/5 [==============================] - 3s 581ms/step - loss: 2.1816 - accuracy: 0.8969 - val_loss: 2.0531 - val_accuracy: 0.9389\n",
            "Epoch 11/20\n",
            "5/5 [==============================] - 3s 579ms/step - loss: 2.0403 - accuracy: 0.9330 - val_loss: 1.9947 - val_accuracy: 0.9414\n",
            "Epoch 12/20\n",
            "5/5 [==============================] - 3s 578ms/step - loss: 1.9981 - accuracy: 0.9276 - val_loss: 1.9229 - val_accuracy: 0.9524\n",
            "Epoch 13/20\n",
            "5/5 [==============================] - 3s 578ms/step - loss: 1.9157 - accuracy: 0.9479 - val_loss: 1.8740 - val_accuracy: 0.9576\n",
            "Epoch 14/20\n",
            "5/5 [==============================] - 3s 583ms/step - loss: 1.8900 - accuracy: 0.9494 - val_loss: 1.9478 - val_accuracy: 0.9250\n",
            "Epoch 15/20\n",
            "5/5 [==============================] - 3s 579ms/step - loss: 2.7099 - accuracy: 0.7430 - val_loss: 1.9754 - val_accuracy: 0.9195\n",
            "Epoch 16/20\n",
            "5/5 [==============================] - 3s 578ms/step - loss: 1.9038 - accuracy: 0.9357 - val_loss: 1.8332 - val_accuracy: 0.9571\n",
            "Epoch 17/20\n",
            "5/5 [==============================] - 3s 580ms/step - loss: 1.8189 - accuracy: 0.9506 - val_loss: 1.7738 - val_accuracy: 0.9610\n",
            "Epoch 18/20\n",
            "5/5 [==============================] - 3s 577ms/step - loss: 1.7669 - accuracy: 0.9548 - val_loss: 1.7271 - val_accuracy: 0.9638\n",
            "Epoch 19/20\n",
            "5/5 [==============================] - 3s 580ms/step - loss: 1.7266 - accuracy: 0.9594 - val_loss: 1.6926 - val_accuracy: 0.9668\n",
            "Epoch 20/20\n",
            "5/5 [==============================] - 3s 577ms/step - loss: 1.6921 - accuracy: 0.9630 - val_loss: 1.6639 - val_accuracy: 0.9690\n"
          ],
          "name": "stdout"
        },
        {
          "output_type": "display_data",
          "data": {
            "image/png": "[encoded data removed]",
            "text/plain": [
              "<Figure size 432x288 with 1 Axes>"
            ]
          },
          "metadata": {
            "tags": [],
            "needs_background": "light"
          }
        },
        {
          "output_type": "display_data",
          "data": {
            "image/png": "[encoded data removed]",
            "text/plain": [
              "<Figure size 432x288 with 1 Axes>"
            ]
          },
          "metadata": {
            "tags": [],
            "needs_background": "light"
          }
        }
      ]
    }
  ]
}