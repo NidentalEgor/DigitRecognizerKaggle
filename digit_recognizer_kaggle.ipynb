{
  "nbformat": 4,
  "nbformat_minor": 0,
  "metadata": {
    "colab": {
      "name": "digit_recognizer_kaggle.ipynb",
      "provenance": [],
      "collapsed_sections": [],
      "machine_shape": "hm",
      "authorship_tag": "ABX9TyOZRsCg5BK6RCQMQAGw8zvy",
      "include_colab_link": true
    },
    "kernelspec": {
      "name": "python3",
      "display_name": "Python 3"
    },
    "accelerator": "GPU"
  },
  "cells": [
    {
      "cell_type": "markdown",
      "metadata": {
        "id": "view-in-github",
        "colab_type": "text"
      },
      "source": [
        "<a href=\"https://colab.research.google.com/github/NidentalEgor/DigitRecognizerKaggle/blob/master/digit_recognizer_kaggle.ipynb\" target=\"_parent\"><img src=\"https://colab.research.google.com/assets/colab-badge.svg\" alt=\"Open In Colab\"/></a>"
      ]
    },
    {
      "cell_type": "code",
      "metadata": {
        "id": "sl4F5GfJr6ET",
        "colab_type": "code",
        "outputId": "b47147ae-44f5-4bfa-a0c5-750eb2dfc6f4",
        "colab": {
          "base_uri": "https://localhost:8080/",
          "height": 34
        }
      },
      "source": [
        "from google.colab import drive\n",
        "drive.mount('/content/gdrive')"
      ],
      "execution_count": 1,
      "outputs": [
        {
          "output_type": "stream",
          "text": [
            "Drive already mounted at /content/gdrive; to attempt to forcibly remount, call drive.mount(\"/content/gdrive\", force_remount=True).\n"
          ],
          "name": "stdout"
        }
      ]
    },
    {
      "cell_type": "code",
      "metadata": {
        "id": "c3lJr_es5Mdl",
        "colab_type": "code",
        "outputId": "c806052f-bcaa-4fbe-8eee-10b4765989fc",
        "colab": {
          "base_uri": "https://localhost:8080/",
          "height": 34
        }
      },
      "source": [
        "from keras.datasets import mnist\n",
        "import tensorflow as tf\n",
        "import numpy as np\n",
        "import pandas as pd\n",
        "import matplotlib.pyplot as plt\n",
        "import math\n",
        "from tensorflow.python.client import device_lib"
      ],
      "execution_count": 2,
      "outputs": [
        {
          "output_type": "stream",
          "text": [
            "Using TensorFlow backend.\n"
          ],
          "name": "stderr"
        }
      ]
    },
    {
      "cell_type": "code",
      "metadata": {
        "id": "KkbiGScAchHd",
        "colab_type": "code",
        "colab": {}
      },
      "source": [
        "def read_dataset():\n",
        "  #(X_train_mnist, y_train_mnist), (X_test_mnist, y_test_mnist) = mnist.load_data()\n",
        "  #print(\"downloaded\")\n",
        "  #return X_train_mnist, y_train_mnist, X_test_mnist\n",
        "\n",
        "  train_data_file = F\"/content/gdrive/My Drive/Colab Notebooks/DigitRecognizerKaggle/Input/train.csv\"\n",
        "  test_data_file = F\"/content/gdrive/My Drive/Colab Notebooks/DigitRecognizerKaggle/Input/test.csv\"\n",
        "  print(\"loaded\")\n",
        "\n",
        "  train_data = pd.read_csv(train_data_file)\n",
        "  test_data = pd.read_csv(test_data_file)\n",
        "\n",
        "  Y_train = train_data.iloc[:,0].to_numpy()\n",
        "  Y_train_result = tf.keras.utils.to_categorical(Y_train.reshape(-1,1))\n",
        "  print(Y_train_result.shape)\n",
        "  X_train = train_data.iloc[:,1:].to_numpy() / 255.0 # normalization\n",
        "  X_train_result = X_train.reshape(-1,28,28,1)\n",
        "  print(X_train_result.shape)\n",
        "\n",
        "  X_test = test_data.to_numpy() / 255.0 # normalization\n",
        "  X_test_result = X_test.reshape(-1,28,28,1)\n",
        "  print(X_test_result.shape)\n",
        "  \n",
        "  return X_train_result, Y_train_result, X_test_result\n",
        "\n",
        "def read_dataset_with_mnist():\n",
        "  (X_train_mnist, y_train_mnist), (X_test_mnist, y_test_mnist) = mnist.load_data()\n",
        "  X_train_mnist = X_train_mnist.reshape(-1,28,28,1)\n",
        "  y_train_mnist = y_train_mnist.reshape(-1,1)\n",
        "\n",
        "  train_data_file = F\"/content/gdrive/My Drive/Colab Notebooks/DigitRecognizerKaggle/Input/train.csv\"\n",
        "  test_data_file = F\"/content/gdrive/My Drive/Colab Notebooks/DigitRecognizerKaggle/Input/test.csv\"\n",
        "  print(\"loaded\")\n",
        "\n",
        "  train_data = pd.read_csv(train_data_file)\n",
        "  test_data = pd.read_csv(test_data_file)\n",
        "\n",
        "  Y_train = train_data.iloc[:,0].to_numpy()\n",
        "  Y_train_result = np.concatenate((Y_train.reshape(-1,1), y_train_mnist.astype('int64')), axis=0)\n",
        "  Y_train_result = tf.keras.utils.to_categorical(Y_train_result)\n",
        "  print(Y_train_result.shape)\n",
        "  X_train = train_data.iloc[:,1:].to_numpy()\n",
        "  X_train_result = np.concatenate((X_train.reshape(-1,28,28,1), X_train_mnist), axis=0) / 255.0\n",
        "  print(X_train_result.shape)\n",
        "\n",
        "  X_test = test_data.to_numpy()\n",
        "  #X_test_result = np.concatenate((X_test.reshape(-1,28,28,1), X_test_mnist.reshape(-1,28,28,1)), axis=0) / 255.0\n",
        "  X_test_result = X_test.reshape(-1,28,28,1) / 255.0\n",
        "  print(X_test_result.shape)\n",
        "  \n",
        "  return X_train_result, Y_train_result, X_test_result"
      ],
      "execution_count": 0,
      "outputs": []
    },
    {
      "cell_type": "code",
      "metadata": {
        "id": "mXWtdUSv6C4-",
        "colab_type": "code",
        "colab": {}
      },
      "source": [
        "def create_model(show_summary = False):\n",
        "  if False:\n",
        "    model = tf.keras.Sequential([\n",
        "      tf.keras.layers.Conv2D(64, 3, activation='relu', input_shape=(28,28,1),padding=\"same\"),\n",
        "      tf.keras.layers.MaxPool2D(strides=2),\n",
        "      \n",
        "      \n",
        "      tf.keras.layers.Conv2D(128, 3, activation='relu',padding=\"same\"),\n",
        "      tf.keras.layers.MaxPool2D(strides=2),\n",
        "      \n",
        "      tf.keras.layers.Dropout(0.2),\n",
        "          \n",
        "      tf.keras.layers.Conv2D(256, 3, activation='relu',padding=\"same\"),\n",
        "      tf.keras.layers.MaxPool2D(strides=2),\n",
        "      \n",
        "      tf.keras.layers.Conv2D(256, 3, activation='relu',padding=\"same\"),\n",
        "      tf.keras.layers.MaxPool2D(strides=2),\n",
        "          \n",
        "      tf.keras.layers.Flatten(),\n",
        "      tf.keras.layers.Dense(100,kernel_regularizer=tf.keras.regularizers.l2(0.01), activation='relu'),\n",
        "      \n",
        "      tf.keras.layers.Dense(50,kernel_regularizer=tf.keras.regularizers.l2(0.01), activation='relu'),\n",
        "          \n",
        "      tf.keras.layers.Dense(10, kernel_regularizer=tf.keras.regularizers.l2(0.01) ,activation='softmax')\n",
        "  ])\n",
        "  else:\n",
        "    model = tf.keras.Sequential([\n",
        "      tf.keras.layers.Conv2D(64, 3, activation='relu', input_shape=(28,28,1),padding=\"same\"),\n",
        "      tf.keras.layers.MaxPool2D(strides=2),\n",
        "      \n",
        "      \n",
        "      tf.keras.layers.Conv2D(128, 3, activation='relu',padding=\"same\"),\n",
        "      tf.keras.layers.MaxPool2D(strides=2),\n",
        "      \n",
        "      tf.keras.layers.Dropout(0.2),\n",
        "          \n",
        "      tf.keras.layers.Conv2D(256, 3, activation='relu',padding=\"same\"),\n",
        "      tf.keras.layers.MaxPool2D(strides=2),\n",
        "      \n",
        "      tf.keras.layers.Conv2D(256, 3, activation='relu',padding=\"same\"),\n",
        "      tf.keras.layers.MaxPool2D(strides=2),\n",
        "          \n",
        "      tf.keras.layers.Flatten(),\n",
        "      tf.keras.layers.Dense(100,kernel_regularizer=tf.keras.regularizers.l2(0.1), activation='relu'),\n",
        "      \n",
        "      tf.keras.layers.BatchNormalization(),\n",
        "\n",
        "      tf.keras.layers.Dense(50,kernel_regularizer=tf.keras.regularizers.l2(0.1), activation='relu'),\n",
        "\n",
        "      tf.keras.layers.BatchNormalization(),\n",
        "\n",
        "      tf.keras.layers.Dense(25,kernel_regularizer=tf.keras.regularizers.l2(0.1), activation='relu'),\n",
        "          \n",
        "      tf.keras.layers.BatchNormalization(),\n",
        "\n",
        "      tf.keras.layers.Dense(10, kernel_regularizer=tf.keras.regularizers.l2(0.1) ,activation='softmax')\n",
        "  ])\n",
        "\n",
        "  if(show_summary == True):\n",
        "    model.summary()\n",
        "\n",
        "  return model"
      ],
      "execution_count": 0,
      "outputs": []
    },
    {
      "cell_type": "code",
      "metadata": {
        "id": "ImwvxYnAzUe6",
        "colab_type": "code",
        "colab": {}
      },
      "source": [
        "def show_plot(result):\n",
        "  plt.plot(result['accuracy'], label='train')\n",
        "  plt.plot(result['val_accuracy'], label='valid')\n",
        "  plt.legend(loc='upper left')\n",
        "  plt.title('Model accuracy')\n",
        "  plt.ylabel('Accuracy')\n",
        "  plt.xlabel('Epoch')\n",
        "  plt.show()\n",
        "  plt.plot(result['loss'], label='train')\n",
        "  plt.plot(result['val_loss'], label='test')\n",
        "  plt.legend(loc='upper right')\n",
        "  plt.title('Model loss')\n",
        "  plt.ylabel('Loss')\n",
        "  plt.xlabel('Epoch')\n",
        "  plt.show()"
      ],
      "execution_count": 0,
      "outputs": []
    },
    {
      "cell_type": "code",
      "metadata": {
        "id": "L_sq5k926ti2",
        "colab_type": "code",
        "colab": {}
      },
      "source": [
        "def train_model(model, X_train, Y_train, batch_size=2000, epoch_number=60):\n",
        "  model.compile(optimizer=tf.keras.optimizers.Nadam(learning_rate=0.001),\n",
        "                loss=tf.keras.losses.CategoricalCrossentropy(),\n",
        "                metrics=['accuracy'])\n",
        "  ln_fc = lambda x: 1e-3 * 0.985 ** x\n",
        "  lrng_rt = tf.keras.callbacks.LearningRateScheduler(ln_fc)\n",
        "  result = model.fit(x=X_train,y=Y_train,batch_size=batch_size,epochs=epoch_number,callbacks=[lrng_rt],\n",
        "                     verbose=1,shuffle=False,initial_epoch=0,validation_split=0.2)\n",
        "\n",
        "  show_plot(result.history)\n",
        "\n",
        "  return model\n",
        "\n",
        "def train_model_with_augmentation(model, X_train, Y_train, batch_size=512, epoch_number=2):\n",
        "  model.compile(optimizer='adam', loss='categorical_crossentropy',metrics=['accuracy'])\n",
        "  datagen = tf.keras.preprocessing.image.ImageDataGenerator(rotation_range=40, zoom_range=0.2, validation_split=0.2) # Create Data Augmentation (DA) Iterator\n",
        "  datagen.fit(X_train) # Our DA Iterator is trained with the image data, to calculate internal statistics\n",
        "  ln_fc = lambda x: 1e-3 * 0.945 ** x # Let's add callbacks, which adjust learning rate\n",
        "  lrng_rt = tf.keras.callbacks.LearningRateScheduler(ln_fc)\n",
        "  # Fit our CNN-model using the DA Iterator using Flow-method, which feeds batches of augmented data:\n",
        "#  result = model.fit_generator(datagen.flow(X_train, Y_train, batch_size=batch_size),\n",
        "#                              steps_per_epoch=len(X_train)/batch_size,verbose = 1,epochs=epoch_number,callbacks=[lrng_rt])\n",
        "\n",
        "  history = dict()\n",
        "  history[\"loss\"] = list()\n",
        "  history[\"accuracy\"] = list()\n",
        "  history[\"val_loss\"] = list()\n",
        "  history[\"val_accuracy\"] = list()\n",
        "  for e in range(epoch_number):\n",
        "      print('Epoch', e)\n",
        "      batches = 0\n",
        "      for x_batch, y_batch in datagen.flow(X_train, Y_train, batch_size=batch_size):\n",
        "          print('Batch', batches+1, '/', math.ceil(len(X_train) / batch_size))\n",
        "          hist = model.fit(x=X_train,y=Y_train,batch_size=batch_size,verbose=1,validation_split=0.2).history\n",
        "          history[\"loss\"].append(hist[\"loss\"][0])\n",
        "          history[\"accuracy\"].append(hist[\"accuracy\"][0])\n",
        "          history[\"val_loss\"].append(hist[\"val_loss\"][0])\n",
        "          history[\"val_accuracy\"].append(hist[\"val_accuracy\"][0])\n",
        "          batches += 1\n",
        "          if batches >= len(X_train) / (batch_size * 4.5):\n",
        "              print()\n",
        "              break\n",
        "\n",
        "  show_plot(history)\n",
        "\n",
        "  return model"
      ],
      "execution_count": 0,
      "outputs": []
    },
    {
      "cell_type": "code",
      "metadata": {
        "id": "xCGjXvZR-M-y",
        "colab_type": "code",
        "colab": {}
      },
      "source": [
        "def predict_and_save_result(model, X_test, file_name):\n",
        "  test_labels = np.argmax(model.predict(X_test), axis=-1)\n",
        "  arr = [x for x in range(1,len(test_labels)+1)]\n",
        "  label = pd.DataFrame(arr,columns = [\"ImageId\"])\n",
        "  label[\"Label\"] = pd.DataFrame(test_labels)\n",
        "  result_file_path = F\"/content/gdrive/My Drive/Colab Notebooks/DigitRecognizerKaggle/Result/\"\n",
        "  label.to_csv(result_file_path+file_name,header=True,index = False)"
      ],
      "execution_count": 0,
      "outputs": []
    },
    {
      "cell_type": "code",
      "metadata": {
        "id": "8-Wri_6aDXsY",
        "colab_type": "code",
        "outputId": "5de20b6a-fb12-4234-8fe0-288c981c4c07",
        "colab": {
          "base_uri": "https://localhost:8080/",
          "height": 85
        }
      },
      "source": [
        "#print(device_lib.list_local_devices())\n",
        "X_train, Y_train, X_test = read_dataset_with_mnist()"
      ],
      "execution_count": 8,
      "outputs": [
        {
          "output_type": "stream",
          "text": [
            "loaded\n",
            "(102000, 10)\n",
            "(102000, 28, 28, 1)\n",
            "(28000, 28, 28, 1)\n"
          ],
          "name": "stdout"
        }
      ]
    },
    {
      "cell_type": "code",
      "metadata": {
        "id": "61h0OAHO42f_",
        "colab_type": "code",
        "outputId": "a0b99875-1623-4d27-f19f-b5b40b70ef28",
        "colab": {
          "base_uri": "https://localhost:8080/",
          "height": 1000
        }
      },
      "source": [
        "model = create_model()\n",
        "model = train_model_with_augmentation(model, X_train, Y_train, epoch_number=1)"
      ],
      "execution_count": 11,
      "outputs": [
        {
          "output_type": "stream",
          "text": [
            "Epoch 0\n",
            "Batch 1 / 200\n",
            "160/160 [==============================] - 13s 80ms/step - loss: 8.8738 - accuracy: 0.9467 - val_loss: 3.9541 - val_accuracy: 0.1090\n",
            "Batch 2 / 200\n",
            "160/160 [==============================] - 12s 76ms/step - loss: 1.0142 - accuracy: 0.9903 - val_loss: 2.6816 - val_accuracy: 0.1807\n",
            "Batch 3 / 200\n",
            "160/160 [==============================] - 12s 76ms/step - loss: 0.5536 - accuracy: 0.9930 - val_loss: 2.1291 - val_accuracy: 0.9901\n",
            "Batch 4 / 200\n",
            "160/160 [==============================] - 12s 77ms/step - loss: 0.4657 - accuracy: 0.9946 - val_loss: 0.9859 - val_accuracy: 0.9912\n",
            "Batch 5 / 200\n",
            "160/160 [==============================] - 12s 76ms/step - loss: 0.4173 - accuracy: 0.9955 - val_loss: 0.4815 - val_accuracy: 0.9936\n",
            "Batch 6 / 200\n",
            "160/160 [==============================] - 12s 76ms/step - loss: 0.3798 - accuracy: 0.9963 - val_loss: 0.3802 - val_accuracy: 0.9935\n",
            "Batch 7 / 200\n",
            "160/160 [==============================] - 12s 76ms/step - loss: 0.3497 - accuracy: 0.9968 - val_loss: 0.3433 - val_accuracy: 0.9951\n",
            "Batch 8 / 200\n",
            "160/160 [==============================] - 12s 77ms/step - loss: 0.3228 - accuracy: 0.9977 - val_loss: 0.3156 - val_accuracy: 0.9953\n",
            "Batch 9 / 200\n",
            "160/160 [==============================] - 12s 76ms/step - loss: 0.3025 - accuracy: 0.9978 - val_loss: 0.3067 - val_accuracy: 0.9964\n",
            "Batch 10 / 200\n",
            "160/160 [==============================] - 12s 77ms/step - loss: 0.2823 - accuracy: 0.9984 - val_loss: 0.2770 - val_accuracy: 0.9967\n",
            "Batch 11 / 200\n",
            "160/160 [==============================] - 12s 77ms/step - loss: 0.2653 - accuracy: 0.9987 - val_loss: 0.2628 - val_accuracy: 0.9965\n",
            "Batch 12 / 200\n",
            "160/160 [==============================] - 12s 77ms/step - loss: 0.2529 - accuracy: 0.9989 - val_loss: 0.2570 - val_accuracy: 0.9965\n",
            "Batch 13 / 200\n",
            "160/160 [==============================] - 12s 77ms/step - loss: 0.2376 - accuracy: 0.9993 - val_loss: 0.2417 - val_accuracy: 0.9963\n",
            "Batch 14 / 200\n",
            "160/160 [==============================] - 12s 77ms/step - loss: 0.2280 - accuracy: 0.9990 - val_loss: 0.2287 - val_accuracy: 0.9968\n",
            "Batch 15 / 200\n",
            "160/160 [==============================] - 12s 77ms/step - loss: 0.2182 - accuracy: 0.9988 - val_loss: 0.2258 - val_accuracy: 0.9973\n",
            "Batch 16 / 200\n",
            "160/160 [==============================] - 12s 77ms/step - loss: 0.2065 - accuracy: 0.9993 - val_loss: 0.2087 - val_accuracy: 0.9971\n",
            "Batch 17 / 200\n",
            "160/160 [==============================] - 12s 77ms/step - loss: 0.1975 - accuracy: 0.9994 - val_loss: 0.2004 - val_accuracy: 0.9973\n",
            "Batch 18 / 200\n",
            "160/160 [==============================] - 12s 77ms/step - loss: 0.1886 - accuracy: 0.9995 - val_loss: 0.2012 - val_accuracy: 0.9964\n",
            "Batch 19 / 200\n",
            "160/160 [==============================] - 12s 77ms/step - loss: 0.1826 - accuracy: 0.9994 - val_loss: 0.1890 - val_accuracy: 0.9973\n",
            "Batch 20 / 200\n",
            "160/160 [==============================] - 12s 77ms/step - loss: 0.1727 - accuracy: 0.9997 - val_loss: 0.1711 - val_accuracy: 0.9976\n",
            "Batch 21 / 200\n",
            "160/160 [==============================] - 12s 77ms/step - loss: 0.1659 - accuracy: 0.9997 - val_loss: 0.1743 - val_accuracy: 0.9970\n",
            "Batch 22 / 200\n",
            "160/160 [==============================] - 12s 77ms/step - loss: 0.1594 - accuracy: 0.9998 - val_loss: 0.1551 - val_accuracy: 0.9974\n",
            "Batch 23 / 200\n",
            "160/160 [==============================] - 12s 77ms/step - loss: 0.1536 - accuracy: 0.9998 - val_loss: 0.1587 - val_accuracy: 0.9975\n",
            "Batch 24 / 200\n",
            "160/160 [==============================] - 12s 76ms/step - loss: 0.1498 - accuracy: 0.9995 - val_loss: 0.1504 - val_accuracy: 0.9966\n",
            "Batch 25 / 200\n",
            "160/160 [==============================] - 12s 76ms/step - loss: 0.1482 - accuracy: 0.9992 - val_loss: 0.1557 - val_accuracy: 0.9962\n",
            "Batch 26 / 200\n",
            "160/160 [==============================] - 12s 77ms/step - loss: 0.1484 - accuracy: 0.9987 - val_loss: 0.1765 - val_accuracy: 0.9957\n",
            "Batch 27 / 200\n",
            "160/160 [==============================] - 12s 76ms/step - loss: 0.1385 - accuracy: 0.9990 - val_loss: 0.1492 - val_accuracy: 0.9975\n",
            "Batch 28 / 200\n",
            "160/160 [==============================] - 12s 77ms/step - loss: 0.1297 - accuracy: 0.9997 - val_loss: 0.1361 - val_accuracy: 0.9965\n",
            "Batch 29 / 200\n",
            "160/160 [==============================] - 12s 76ms/step - loss: 0.1281 - accuracy: 0.9995 - val_loss: 0.1430 - val_accuracy: 0.9972\n",
            "Batch 30 / 200\n",
            "160/160 [==============================] - 12s 77ms/step - loss: 0.1208 - accuracy: 0.9998 - val_loss: 0.1286 - val_accuracy: 0.9973\n",
            "Batch 31 / 200\n",
            "160/160 [==============================] - 12s 76ms/step - loss: 0.1158 - accuracy: 0.9999 - val_loss: 0.1212 - val_accuracy: 0.9975\n",
            "Batch 32 / 200\n",
            "160/160 [==============================] - 12s 76ms/step - loss: 0.1129 - accuracy: 0.9999 - val_loss: 0.1209 - val_accuracy: 0.9976\n",
            "Batch 33 / 200\n",
            "160/160 [==============================] - 12s 76ms/step - loss: 0.1093 - accuracy: 0.9999 - val_loss: 0.1162 - val_accuracy: 0.9979\n",
            "Batch 34 / 200\n",
            "160/160 [==============================] - 12s 77ms/step - loss: 0.1051 - accuracy: 1.0000 - val_loss: 0.1120 - val_accuracy: 0.9975\n",
            "Batch 35 / 200\n",
            "160/160 [==============================] - 12s 77ms/step - loss: 0.1029 - accuracy: 1.0000 - val_loss: 0.1058 - val_accuracy: 0.9976\n",
            "Batch 36 / 200\n",
            "160/160 [==============================] - 12s 76ms/step - loss: 0.0997 - accuracy: 0.9999 - val_loss: 0.1122 - val_accuracy: 0.9976\n",
            "Batch 37 / 200\n",
            "160/160 [==============================] - 12s 76ms/step - loss: 0.0971 - accuracy: 0.9999 - val_loss: 0.1060 - val_accuracy: 0.9977\n",
            "Batch 38 / 200\n",
            "160/160 [==============================] - 12s 77ms/step - loss: 0.0991 - accuracy: 0.9993 - val_loss: 0.1032 - val_accuracy: 0.9958\n",
            "Batch 39 / 200\n",
            "160/160 [==============================] - 12s 76ms/step - loss: 0.1045 - accuracy: 0.9985 - val_loss: 0.1035 - val_accuracy: 0.9964\n",
            "Batch 40 / 200\n",
            "160/160 [==============================] - 12s 76ms/step - loss: 0.0996 - accuracy: 0.9986 - val_loss: 0.1181 - val_accuracy: 0.9970\n",
            "Batch 41 / 200\n",
            "160/160 [==============================] - 12s 76ms/step - loss: 0.0890 - accuracy: 0.9997 - val_loss: 0.1219 - val_accuracy: 0.9972\n",
            "Batch 42 / 200\n",
            "160/160 [==============================] - 12s 76ms/step - loss: 0.0852 - accuracy: 0.9998 - val_loss: 0.0975 - val_accuracy: 0.9976\n",
            "Batch 43 / 200\n",
            "160/160 [==============================] - 12s 76ms/step - loss: 0.0827 - accuracy: 0.9998 - val_loss: 0.0984 - val_accuracy: 0.9977\n",
            "Batch 44 / 200\n",
            "160/160 [==============================] - 12s 77ms/step - loss: 0.0815 - accuracy: 0.9997 - val_loss: 0.0895 - val_accuracy: 0.9977\n",
            "Batch 45 / 200\n",
            "160/160 [==============================] - 12s 76ms/step - loss: 0.0785 - accuracy: 0.9998 - val_loss: 0.0922 - val_accuracy: 0.9976\n",
            "\n"
          ],
          "name": "stdout"
        },
        {
          "output_type": "display_data",
          "data": {
            "image/png": "[encoded data removed]",
            "text/plain": [
              "<Figure size 432x288 with 1 Axes>"
            ]
          },
          "metadata": {
            "tags": [],
            "needs_background": "light"
          }
        },
        {
          "output_type": "display_data",
          "data": {
            "image/png": "[encoded data removed]",
            "text/plain": [
              "<Figure size 432x288 with 1 Axes>"
            ]
          },
          "metadata": {
            "tags": [],
            "needs_background": "light"
          }
        }
      ]
    },
    {
      "cell_type": "code",
      "metadata": {
        "id": "hmQtgNat8j0w",
        "colab_type": "code",
        "colab": {}
      },
      "source": [
        "predict_and_save_result(model, X_test, \"result_7.csv\")"
      ],
      "execution_count": 0,
      "outputs": []
    }
  ]
}